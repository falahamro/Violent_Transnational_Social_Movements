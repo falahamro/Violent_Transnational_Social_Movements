{
  "cells": [
    {
      "cell_type": "markdown",
      "metadata": {
        "id": "view-in-github",
        "colab_type": "text"
      },
      "source": [
        "<a href=\"https://colab.research.google.com/github/falahamro/Violent_Transnational_Social_Movements/blob/main/Step02_Data_Cleaning_and_NLP_Analysis_nodes_attributes.ipynb\" target=\"_parent\"><img src=\"https://colab.research.google.com/assets/colab-badge.svg\" alt=\"Open In Colab\"/></a>"
      ]
    },
    {
      "cell_type": "markdown",
      "metadata": {
        "id": "XN9C-oECS-Ag"
      },
      "source": [
        "# Data Cleaning\n",
        "\n",
        "This notebook combines the previously scraped twitter data, cleans and add any additional columns needed prior to analysis."
      ]
    },
    {
      "cell_type": "code",
      "source": [
        "from google.colab import drive\n",
        "drive.mount('/content/drive')"
      ],
      "metadata": {
        "colab": {
          "base_uri": "https://localhost:8080/"
        },
        "id": "n9RDo5M8UveJ",
        "outputId": "c8050e0e-0c9e-4493-de5a-8419cfbc913b"
      },
      "execution_count": 1,
      "outputs": [
        {
          "output_type": "stream",
          "name": "stdout",
          "text": [
            "Mounted at /content/drive\n"
          ]
        }
      ]
    },
    {
      "cell_type": "markdown",
      "metadata": {
        "id": "u9kh6oxJS-Am"
      },
      "source": [
        "# Load Libraries"
      ]
    },
    {
      "cell_type": "code",
      "execution_count": 2,
      "metadata": {
        "id": "BjglU6OBS-An"
      },
      "outputs": [],
      "source": [
        "# Data manipulation\n",
        "import numpy as np\n",
        "import pandas as pd\n",
        "\n",
        "# Network analysis\n",
        "import networkx as nx\n",
        "import community as louvain\n",
        "\n",
        "# Visualization\n",
        "import matplotlib.pyplot as plt\n",
        "from matplotlib.pyplot import figure\n",
        "import seaborn as sns\n",
        "from wordcloud import WordCloud\n",
        "\n",
        "# NLP\n",
        "import nltk\n",
        "from nltk.corpus import stopwords\n",
        "from nltk.stem import WordNetLemmatizer\n",
        "from nltk import word_tokenize\n",
        "from sklearn.feature_extraction.text import CountVectorizer, TfidfVectorizer\n",
        "from gensim.models.keyedvectors import KeyedVectors\n",
        "from gensim.models import Word2Vec\n",
        "\n",
        "# Machine learning\n",
        "from sklearn.cluster import MiniBatchKMeans\n",
        "from sklearn.pipeline import Pipeline\n",
        "from sklearn.decomposition import PCA\n",
        "\n",
        "# Utilities\n",
        "import warnings\n",
        "import string\n",
        "import re\n",
        "import pickle\n",
        "import gensim"
      ]
    },
    {
      "cell_type": "markdown",
      "metadata": {
        "id": "OaMe70rpS-Ap"
      },
      "source": [
        "# Load Dataset"
      ]
    },
    {
      "cell_type": "code",
      "execution_count": 3,
      "metadata": {
        "id": "9L9knaZXS-Av",
        "colab": {
          "base_uri": "https://localhost:8080/"
        },
        "outputId": "ccaaf7a8-bf5c-4125-f5b7-e7c05c9dc5ee"
      },
      "outputs": [
        {
          "output_type": "stream",
          "name": "stderr",
          "text": [
            "<ipython-input-3-33afa9f674e8>:1: DtypeWarning: Columns (5,8,9) have mixed types. Specify dtype option on import or set low_memory=False.\n",
            "  df_connections = pd.read_csv(\"/content/drive/MyDrive/Social Network Analysis_Freedom Convoy/Final Query/ALL_nodes_connections_to_analysis (3).csv\")\n"
          ]
        }
      ],
      "source": [
        "df_connections = pd.read_csv(\"/content/drive/MyDrive/Social Network Analysis_Freedom Convoy/Final Query/ALL_nodes_connections_to_analysis (3).csv\")"
      ]
    },
    {
      "cell_type": "code",
      "source": [
        "#, lineterminator='\\n',dtype=str"
      ],
      "metadata": {
        "id": "cDSeSxzbK41i"
      },
      "execution_count": 4,
      "outputs": []
    },
    {
      "cell_type": "code",
      "source": [
        "df_connections =  df_connections.rename(columns = {\"source\" : \"author.username\"})"
      ],
      "metadata": {
        "id": "VMX4BRWJFNJt"
      },
      "execution_count": 5,
      "outputs": []
    },
    {
      "cell_type": "code",
      "source": [
        "df_connections.head()"
      ],
      "metadata": {
        "colab": {
          "base_uri": "https://localhost:8080/",
          "height": 513
        },
        "id": "yM_YWUzdX9xy",
        "outputId": "6ec6263e-a3d9-4b6a-c26b-bbed017acf7c"
      },
      "execution_count": 6,
      "outputs": [
        {
          "output_type": "execute_result",
          "data": {
            "text/plain": [
              "   author.username           target  \\\n",
              "0       QwertyDee_         SsWowowo   \n",
              "1       QwertyDee_      1MikeMorris   \n",
              "2       QwertyDee_  CandiceBergenMP   \n",
              "3  Madrussianlives  TruckYouFrudeau   \n",
              "4        mrosssila       akatelyn19   \n",
              "\n",
              "                                                text     author_id  \\\n",
              "0  RT @SsWowowo: @1MikeMorris @CandiceBergenMP #C...  2.091772e+07   \n",
              "1  RT @SsWowowo: @1MikeMorris @CandiceBergenMP #C...  2.091772e+07   \n",
              "2  RT @SsWowowo: @1MikeMorris @CandiceBergenMP #C...  2.091772e+07   \n",
              "3  RT @TruckYouFrudeau: Oh good lord your bullshi...  1.495463e+18   \n",
              "4  RT @akatelyn19: Leaky Tank menu in #SarniaON \\...  2.536917e+09   \n",
              "\n",
              "             id in_reply_to_user_id  referenced_tweets.tweet.author.id  \\\n",
              "0  1.498142e+18                 NaN                       7.133665e+17   \n",
              "1  1.498142e+18                 NaN                       7.133665e+17   \n",
              "2  1.498142e+18                 NaN                       7.133665e+17   \n",
              "3  1.498142e+18                 NaN                       1.492918e+18   \n",
              "4  1.498142e+18                 NaN                       2.054286e+08   \n",
              "\n",
              "  referenced_tweets.tweet.author.username referenced_tweets.tweet.author_id  \\\n",
              "0                                SsWowowo              713366495527481344.0   \n",
              "1                                SsWowowo              713366495527481344.0   \n",
              "2                                SsWowowo              713366495527481344.0   \n",
              "3                         TruckYouFrudeau             1492917845902118912.0   \n",
              "4                              akatelyn19                       205428649.0   \n",
              "\n",
              "  referenced_tweets.tweet.id           created_at author.verified  \\\n",
              "0      1498072291153874944.0  2022-02-28 03:44:41           False   \n",
              "1      1498072291153874944.0  2022-02-28 03:44:41           False   \n",
              "2      1498072291153874944.0  2022-02-28 03:44:41           False   \n",
              "3      1498125519451299840.0  2022-02-28 03:44:14           False   \n",
              "4      1497250155174797312.0  2022-02-28 03:43:36           False   \n",
              "\n",
              "  author.location                                 author.description  \\\n",
              "0          Canada  #WearAMask😷#N95 #DemocracyIsUnderThreat🇨🇦 Disi...   \n",
              "1          Canada  #WearAMask😷#N95 #DemocracyIsUnderThreat🇨🇦 Disi...   \n",
              "2          Canada  #WearAMask😷#N95 #DemocracyIsUnderThreat🇨🇦 Disi...   \n",
              "3             NaN  A concerned citizen! Looking for the truth! Th...   \n",
              "4             NaN                                                NaN   \n",
              "\n",
              "   conversation_id  author.public_metrics.followers_count  \\\n",
              "0     1.498142e+18                                 5040.0   \n",
              "1     1.498142e+18                                 5040.0   \n",
              "2     1.498142e+18                                 5040.0   \n",
              "3     1.498142e+18                                  236.0   \n",
              "4     1.498142e+18                                   67.0   \n",
              "\n",
              "   author.public_metrics.following_count  author.public_metrics.tweet_count  \\\n",
              "0                                 5536.0                           221894.0   \n",
              "1                                 5536.0                           221894.0   \n",
              "2                                 5536.0                           221894.0   \n",
              "3                                  587.0                            14122.0   \n",
              "4                                  183.0                             6542.0   \n",
              "\n",
              "   referenced_tweets.id  \n",
              "0          1.498072e+18  \n",
              "1          1.498072e+18  \n",
              "2          1.498072e+18  \n",
              "3          1.498126e+18  \n",
              "4          1.497250e+18  "
            ],
            "text/html": [
              "\n",
              "  <div id=\"df-b31fcfc4-78e2-4cc4-b94e-eb8d3927939b\">\n",
              "    <div class=\"colab-df-container\">\n",
              "      <div>\n",
              "<style scoped>\n",
              "    .dataframe tbody tr th:only-of-type {\n",
              "        vertical-align: middle;\n",
              "    }\n",
              "\n",
              "    .dataframe tbody tr th {\n",
              "        vertical-align: top;\n",
              "    }\n",
              "\n",
              "    .dataframe thead th {\n",
              "        text-align: right;\n",
              "    }\n",
              "</style>\n",
              "<table border=\"1\" class=\"dataframe\">\n",
              "  <thead>\n",
              "    <tr style=\"text-align: right;\">\n",
              "      <th></th>\n",
              "      <th>author.username</th>\n",
              "      <th>target</th>\n",
              "      <th>text</th>\n",
              "      <th>author_id</th>\n",
              "      <th>id</th>\n",
              "      <th>in_reply_to_user_id</th>\n",
              "      <th>referenced_tweets.tweet.author.id</th>\n",
              "      <th>referenced_tweets.tweet.author.username</th>\n",
              "      <th>referenced_tweets.tweet.author_id</th>\n",
              "      <th>referenced_tweets.tweet.id</th>\n",
              "      <th>created_at</th>\n",
              "      <th>author.verified</th>\n",
              "      <th>author.location</th>\n",
              "      <th>author.description</th>\n",
              "      <th>conversation_id</th>\n",
              "      <th>author.public_metrics.followers_count</th>\n",
              "      <th>author.public_metrics.following_count</th>\n",
              "      <th>author.public_metrics.tweet_count</th>\n",
              "      <th>referenced_tweets.id</th>\n",
              "    </tr>\n",
              "  </thead>\n",
              "  <tbody>\n",
              "    <tr>\n",
              "      <th>0</th>\n",
              "      <td>QwertyDee_</td>\n",
              "      <td>SsWowowo</td>\n",
              "      <td>RT @SsWowowo: @1MikeMorris @CandiceBergenMP #C...</td>\n",
              "      <td>2.091772e+07</td>\n",
              "      <td>1.498142e+18</td>\n",
              "      <td>NaN</td>\n",
              "      <td>7.133665e+17</td>\n",
              "      <td>SsWowowo</td>\n",
              "      <td>713366495527481344.0</td>\n",
              "      <td>1498072291153874944.0</td>\n",
              "      <td>2022-02-28 03:44:41</td>\n",
              "      <td>False</td>\n",
              "      <td>Canada</td>\n",
              "      <td>#WearAMask😷#N95 #DemocracyIsUnderThreat🇨🇦 Disi...</td>\n",
              "      <td>1.498142e+18</td>\n",
              "      <td>5040.0</td>\n",
              "      <td>5536.0</td>\n",
              "      <td>221894.0</td>\n",
              "      <td>1.498072e+18</td>\n",
              "    </tr>\n",
              "    <tr>\n",
              "      <th>1</th>\n",
              "      <td>QwertyDee_</td>\n",
              "      <td>1MikeMorris</td>\n",
              "      <td>RT @SsWowowo: @1MikeMorris @CandiceBergenMP #C...</td>\n",
              "      <td>2.091772e+07</td>\n",
              "      <td>1.498142e+18</td>\n",
              "      <td>NaN</td>\n",
              "      <td>7.133665e+17</td>\n",
              "      <td>SsWowowo</td>\n",
              "      <td>713366495527481344.0</td>\n",
              "      <td>1498072291153874944.0</td>\n",
              "      <td>2022-02-28 03:44:41</td>\n",
              "      <td>False</td>\n",
              "      <td>Canada</td>\n",
              "      <td>#WearAMask😷#N95 #DemocracyIsUnderThreat🇨🇦 Disi...</td>\n",
              "      <td>1.498142e+18</td>\n",
              "      <td>5040.0</td>\n",
              "      <td>5536.0</td>\n",
              "      <td>221894.0</td>\n",
              "      <td>1.498072e+18</td>\n",
              "    </tr>\n",
              "    <tr>\n",
              "      <th>2</th>\n",
              "      <td>QwertyDee_</td>\n",
              "      <td>CandiceBergenMP</td>\n",
              "      <td>RT @SsWowowo: @1MikeMorris @CandiceBergenMP #C...</td>\n",
              "      <td>2.091772e+07</td>\n",
              "      <td>1.498142e+18</td>\n",
              "      <td>NaN</td>\n",
              "      <td>7.133665e+17</td>\n",
              "      <td>SsWowowo</td>\n",
              "      <td>713366495527481344.0</td>\n",
              "      <td>1498072291153874944.0</td>\n",
              "      <td>2022-02-28 03:44:41</td>\n",
              "      <td>False</td>\n",
              "      <td>Canada</td>\n",
              "      <td>#WearAMask😷#N95 #DemocracyIsUnderThreat🇨🇦 Disi...</td>\n",
              "      <td>1.498142e+18</td>\n",
              "      <td>5040.0</td>\n",
              "      <td>5536.0</td>\n",
              "      <td>221894.0</td>\n",
              "      <td>1.498072e+18</td>\n",
              "    </tr>\n",
              "    <tr>\n",
              "      <th>3</th>\n",
              "      <td>Madrussianlives</td>\n",
              "      <td>TruckYouFrudeau</td>\n",
              "      <td>RT @TruckYouFrudeau: Oh good lord your bullshi...</td>\n",
              "      <td>1.495463e+18</td>\n",
              "      <td>1.498142e+18</td>\n",
              "      <td>NaN</td>\n",
              "      <td>1.492918e+18</td>\n",
              "      <td>TruckYouFrudeau</td>\n",
              "      <td>1492917845902118912.0</td>\n",
              "      <td>1498125519451299840.0</td>\n",
              "      <td>2022-02-28 03:44:14</td>\n",
              "      <td>False</td>\n",
              "      <td>NaN</td>\n",
              "      <td>A concerned citizen! Looking for the truth! Th...</td>\n",
              "      <td>1.498142e+18</td>\n",
              "      <td>236.0</td>\n",
              "      <td>587.0</td>\n",
              "      <td>14122.0</td>\n",
              "      <td>1.498126e+18</td>\n",
              "    </tr>\n",
              "    <tr>\n",
              "      <th>4</th>\n",
              "      <td>mrosssila</td>\n",
              "      <td>akatelyn19</td>\n",
              "      <td>RT @akatelyn19: Leaky Tank menu in #SarniaON \\...</td>\n",
              "      <td>2.536917e+09</td>\n",
              "      <td>1.498142e+18</td>\n",
              "      <td>NaN</td>\n",
              "      <td>2.054286e+08</td>\n",
              "      <td>akatelyn19</td>\n",
              "      <td>205428649.0</td>\n",
              "      <td>1497250155174797312.0</td>\n",
              "      <td>2022-02-28 03:43:36</td>\n",
              "      <td>False</td>\n",
              "      <td>NaN</td>\n",
              "      <td>NaN</td>\n",
              "      <td>1.498142e+18</td>\n",
              "      <td>67.0</td>\n",
              "      <td>183.0</td>\n",
              "      <td>6542.0</td>\n",
              "      <td>1.497250e+18</td>\n",
              "    </tr>\n",
              "  </tbody>\n",
              "</table>\n",
              "</div>\n",
              "      <button class=\"colab-df-convert\" onclick=\"convertToInteractive('df-b31fcfc4-78e2-4cc4-b94e-eb8d3927939b')\"\n",
              "              title=\"Convert this dataframe to an interactive table.\"\n",
              "              style=\"display:none;\">\n",
              "        \n",
              "  <svg xmlns=\"http://www.w3.org/2000/svg\" height=\"24px\"viewBox=\"0 0 24 24\"\n",
              "       width=\"24px\">\n",
              "    <path d=\"M0 0h24v24H0V0z\" fill=\"none\"/>\n",
              "    <path d=\"M18.56 5.44l.94 2.06.94-2.06 2.06-.94-2.06-.94-.94-2.06-.94 2.06-2.06.94zm-11 1L8.5 8.5l.94-2.06 2.06-.94-2.06-.94L8.5 2.5l-.94 2.06-2.06.94zm10 10l.94 2.06.94-2.06 2.06-.94-2.06-.94-.94-2.06-.94 2.06-2.06.94z\"/><path d=\"M17.41 7.96l-1.37-1.37c-.4-.4-.92-.59-1.43-.59-.52 0-1.04.2-1.43.59L10.3 9.45l-7.72 7.72c-.78.78-.78 2.05 0 2.83L4 21.41c.39.39.9.59 1.41.59.51 0 1.02-.2 1.41-.59l7.78-7.78 2.81-2.81c.8-.78.8-2.07 0-2.86zM5.41 20L4 18.59l7.72-7.72 1.47 1.35L5.41 20z\"/>\n",
              "  </svg>\n",
              "      </button>\n",
              "      \n",
              "  <style>\n",
              "    .colab-df-container {\n",
              "      display:flex;\n",
              "      flex-wrap:wrap;\n",
              "      gap: 12px;\n",
              "    }\n",
              "\n",
              "    .colab-df-convert {\n",
              "      background-color: #E8F0FE;\n",
              "      border: none;\n",
              "      border-radius: 50%;\n",
              "      cursor: pointer;\n",
              "      display: none;\n",
              "      fill: #1967D2;\n",
              "      height: 32px;\n",
              "      padding: 0 0 0 0;\n",
              "      width: 32px;\n",
              "    }\n",
              "\n",
              "    .colab-df-convert:hover {\n",
              "      background-color: #E2EBFA;\n",
              "      box-shadow: 0px 1px 2px rgba(60, 64, 67, 0.3), 0px 1px 3px 1px rgba(60, 64, 67, 0.15);\n",
              "      fill: #174EA6;\n",
              "    }\n",
              "\n",
              "    [theme=dark] .colab-df-convert {\n",
              "      background-color: #3B4455;\n",
              "      fill: #D2E3FC;\n",
              "    }\n",
              "\n",
              "    [theme=dark] .colab-df-convert:hover {\n",
              "      background-color: #434B5C;\n",
              "      box-shadow: 0px 1px 3px 1px rgba(0, 0, 0, 0.15);\n",
              "      filter: drop-shadow(0px 1px 2px rgba(0, 0, 0, 0.3));\n",
              "      fill: #FFFFFF;\n",
              "    }\n",
              "  </style>\n",
              "\n",
              "      <script>\n",
              "        const buttonEl =\n",
              "          document.querySelector('#df-b31fcfc4-78e2-4cc4-b94e-eb8d3927939b button.colab-df-convert');\n",
              "        buttonEl.style.display =\n",
              "          google.colab.kernel.accessAllowed ? 'block' : 'none';\n",
              "\n",
              "        async function convertToInteractive(key) {\n",
              "          const element = document.querySelector('#df-b31fcfc4-78e2-4cc4-b94e-eb8d3927939b');\n",
              "          const dataTable =\n",
              "            await google.colab.kernel.invokeFunction('convertToInteractive',\n",
              "                                                     [key], {});\n",
              "          if (!dataTable) return;\n",
              "\n",
              "          const docLinkHtml = 'Like what you see? Visit the ' +\n",
              "            '<a target=\"_blank\" href=https://colab.research.google.com/notebooks/data_table.ipynb>data table notebook</a>'\n",
              "            + ' to learn more about interactive tables.';\n",
              "          element.innerHTML = '';\n",
              "          dataTable['output_type'] = 'display_data';\n",
              "          await google.colab.output.renderOutput(dataTable, element);\n",
              "          const docLink = document.createElement('div');\n",
              "          docLink.innerHTML = docLinkHtml;\n",
              "          element.appendChild(docLink);\n",
              "        }\n",
              "      </script>\n",
              "    </div>\n",
              "  </div>\n",
              "  "
            ]
          },
          "metadata": {},
          "execution_count": 6
        }
      ]
    },
    {
      "cell_type": "code",
      "source": [
        "df_connections.shape"
      ],
      "metadata": {
        "colab": {
          "base_uri": "https://localhost:8080/"
        },
        "id": "6fHnlUEbKpJM",
        "outputId": "6910be73-ffb0-4fc8-e037-664fdfcaee73"
      },
      "execution_count": 7,
      "outputs": [
        {
          "output_type": "execute_result",
          "data": {
            "text/plain": [
              "(55759, 19)"
            ]
          },
          "metadata": {},
          "execution_count": 7
        }
      ]
    },
    {
      "cell_type": "code",
      "source": [
        "#df_connections[\"created_at\"] = df_connections[\"created_at\"].apply(lambda x: datetime.datetime.strptime(x, \"%Y-%m-%d %H:%M:%S+00:000Z\").replace(tzinfo=None))"
      ],
      "metadata": {
        "id": "IyRsIYPeeWXC"
      },
      "execution_count": 8,
      "outputs": []
    },
    {
      "cell_type": "markdown",
      "metadata": {
        "id": "Kr8YdYHBS-A3"
      },
      "source": [
        "# NLP Analysis\n",
        "\n",
        "Use NLP and K-Means to cluster the different topics discussed in the tweets dataset."
      ]
    },
    {
      "cell_type": "markdown",
      "metadata": {
        "id": "-tvcbhvfS-A5"
      },
      "source": [
        "# Sentiment Analysis"
      ]
    },
    {
      "cell_type": "code",
      "execution_count": 9,
      "metadata": {
        "id": "9oWKgxAiS-A5",
        "outputId": "6ce8d968-bc8d-423e-97ca-ff72621cfe15",
        "colab": {
          "base_uri": "https://localhost:8080/",
          "height": 364
        }
      },
      "outputs": [
        {
          "output_type": "execute_result",
          "data": {
            "text/plain": [
              "  author.username           target  \\\n",
              "0      QwertyDee_         SsWowowo   \n",
              "1      QwertyDee_      1MikeMorris   \n",
              "2      QwertyDee_  CandiceBergenMP   \n",
              "\n",
              "                                                text   author_id  \\\n",
              "0  RT @SsWowowo: @1MikeMorris @CandiceBergenMP #C...  20917723.0   \n",
              "1  RT @SsWowowo: @1MikeMorris @CandiceBergenMP #C...  20917723.0   \n",
              "2  RT @SsWowowo: @1MikeMorris @CandiceBergenMP #C...  20917723.0   \n",
              "\n",
              "             id in_reply_to_user_id  referenced_tweets.tweet.author.id  \\\n",
              "0  1.498142e+18                 NaN                       7.133665e+17   \n",
              "1  1.498142e+18                 NaN                       7.133665e+17   \n",
              "2  1.498142e+18                 NaN                       7.133665e+17   \n",
              "\n",
              "  referenced_tweets.tweet.author.username referenced_tweets.tweet.author_id  \\\n",
              "0                                SsWowowo              713366495527481344.0   \n",
              "1                                SsWowowo              713366495527481344.0   \n",
              "2                                SsWowowo              713366495527481344.0   \n",
              "\n",
              "  referenced_tweets.tweet.id           created_at author.verified  \\\n",
              "0      1498072291153874944.0  2022-02-28 03:44:41           False   \n",
              "1      1498072291153874944.0  2022-02-28 03:44:41           False   \n",
              "2      1498072291153874944.0  2022-02-28 03:44:41           False   \n",
              "\n",
              "  author.location                                 author.description  \\\n",
              "0          Canada  #WearAMask😷#N95 #DemocracyIsUnderThreat🇨🇦 Disi...   \n",
              "1          Canada  #WearAMask😷#N95 #DemocracyIsUnderThreat🇨🇦 Disi...   \n",
              "2          Canada  #WearAMask😷#N95 #DemocracyIsUnderThreat🇨🇦 Disi...   \n",
              "\n",
              "   conversation_id  author.public_metrics.followers_count  \\\n",
              "0     1.498142e+18                                 5040.0   \n",
              "1     1.498142e+18                                 5040.0   \n",
              "2     1.498142e+18                                 5040.0   \n",
              "\n",
              "   author.public_metrics.following_count  author.public_metrics.tweet_count  \\\n",
              "0                                 5536.0                           221894.0   \n",
              "1                                 5536.0                           221894.0   \n",
              "2                                 5536.0                           221894.0   \n",
              "\n",
              "   referenced_tweets.id  \n",
              "0          1.498072e+18  \n",
              "1          1.498072e+18  \n",
              "2          1.498072e+18  "
            ],
            "text/html": [
              "\n",
              "  <div id=\"df-f91ab87e-bbab-4cdc-a50d-26a120e276d7\">\n",
              "    <div class=\"colab-df-container\">\n",
              "      <div>\n",
              "<style scoped>\n",
              "    .dataframe tbody tr th:only-of-type {\n",
              "        vertical-align: middle;\n",
              "    }\n",
              "\n",
              "    .dataframe tbody tr th {\n",
              "        vertical-align: top;\n",
              "    }\n",
              "\n",
              "    .dataframe thead th {\n",
              "        text-align: right;\n",
              "    }\n",
              "</style>\n",
              "<table border=\"1\" class=\"dataframe\">\n",
              "  <thead>\n",
              "    <tr style=\"text-align: right;\">\n",
              "      <th></th>\n",
              "      <th>author.username</th>\n",
              "      <th>target</th>\n",
              "      <th>text</th>\n",
              "      <th>author_id</th>\n",
              "      <th>id</th>\n",
              "      <th>in_reply_to_user_id</th>\n",
              "      <th>referenced_tweets.tweet.author.id</th>\n",
              "      <th>referenced_tweets.tweet.author.username</th>\n",
              "      <th>referenced_tweets.tweet.author_id</th>\n",
              "      <th>referenced_tweets.tweet.id</th>\n",
              "      <th>created_at</th>\n",
              "      <th>author.verified</th>\n",
              "      <th>author.location</th>\n",
              "      <th>author.description</th>\n",
              "      <th>conversation_id</th>\n",
              "      <th>author.public_metrics.followers_count</th>\n",
              "      <th>author.public_metrics.following_count</th>\n",
              "      <th>author.public_metrics.tweet_count</th>\n",
              "      <th>referenced_tweets.id</th>\n",
              "    </tr>\n",
              "  </thead>\n",
              "  <tbody>\n",
              "    <tr>\n",
              "      <th>0</th>\n",
              "      <td>QwertyDee_</td>\n",
              "      <td>SsWowowo</td>\n",
              "      <td>RT @SsWowowo: @1MikeMorris @CandiceBergenMP #C...</td>\n",
              "      <td>20917723.0</td>\n",
              "      <td>1.498142e+18</td>\n",
              "      <td>NaN</td>\n",
              "      <td>7.133665e+17</td>\n",
              "      <td>SsWowowo</td>\n",
              "      <td>713366495527481344.0</td>\n",
              "      <td>1498072291153874944.0</td>\n",
              "      <td>2022-02-28 03:44:41</td>\n",
              "      <td>False</td>\n",
              "      <td>Canada</td>\n",
              "      <td>#WearAMask😷#N95 #DemocracyIsUnderThreat🇨🇦 Disi...</td>\n",
              "      <td>1.498142e+18</td>\n",
              "      <td>5040.0</td>\n",
              "      <td>5536.0</td>\n",
              "      <td>221894.0</td>\n",
              "      <td>1.498072e+18</td>\n",
              "    </tr>\n",
              "    <tr>\n",
              "      <th>1</th>\n",
              "      <td>QwertyDee_</td>\n",
              "      <td>1MikeMorris</td>\n",
              "      <td>RT @SsWowowo: @1MikeMorris @CandiceBergenMP #C...</td>\n",
              "      <td>20917723.0</td>\n",
              "      <td>1.498142e+18</td>\n",
              "      <td>NaN</td>\n",
              "      <td>7.133665e+17</td>\n",
              "      <td>SsWowowo</td>\n",
              "      <td>713366495527481344.0</td>\n",
              "      <td>1498072291153874944.0</td>\n",
              "      <td>2022-02-28 03:44:41</td>\n",
              "      <td>False</td>\n",
              "      <td>Canada</td>\n",
              "      <td>#WearAMask😷#N95 #DemocracyIsUnderThreat🇨🇦 Disi...</td>\n",
              "      <td>1.498142e+18</td>\n",
              "      <td>5040.0</td>\n",
              "      <td>5536.0</td>\n",
              "      <td>221894.0</td>\n",
              "      <td>1.498072e+18</td>\n",
              "    </tr>\n",
              "    <tr>\n",
              "      <th>2</th>\n",
              "      <td>QwertyDee_</td>\n",
              "      <td>CandiceBergenMP</td>\n",
              "      <td>RT @SsWowowo: @1MikeMorris @CandiceBergenMP #C...</td>\n",
              "      <td>20917723.0</td>\n",
              "      <td>1.498142e+18</td>\n",
              "      <td>NaN</td>\n",
              "      <td>7.133665e+17</td>\n",
              "      <td>SsWowowo</td>\n",
              "      <td>713366495527481344.0</td>\n",
              "      <td>1498072291153874944.0</td>\n",
              "      <td>2022-02-28 03:44:41</td>\n",
              "      <td>False</td>\n",
              "      <td>Canada</td>\n",
              "      <td>#WearAMask😷#N95 #DemocracyIsUnderThreat🇨🇦 Disi...</td>\n",
              "      <td>1.498142e+18</td>\n",
              "      <td>5040.0</td>\n",
              "      <td>5536.0</td>\n",
              "      <td>221894.0</td>\n",
              "      <td>1.498072e+18</td>\n",
              "    </tr>\n",
              "  </tbody>\n",
              "</table>\n",
              "</div>\n",
              "      <button class=\"colab-df-convert\" onclick=\"convertToInteractive('df-f91ab87e-bbab-4cdc-a50d-26a120e276d7')\"\n",
              "              title=\"Convert this dataframe to an interactive table.\"\n",
              "              style=\"display:none;\">\n",
              "        \n",
              "  <svg xmlns=\"http://www.w3.org/2000/svg\" height=\"24px\"viewBox=\"0 0 24 24\"\n",
              "       width=\"24px\">\n",
              "    <path d=\"M0 0h24v24H0V0z\" fill=\"none\"/>\n",
              "    <path d=\"M18.56 5.44l.94 2.06.94-2.06 2.06-.94-2.06-.94-.94-2.06-.94 2.06-2.06.94zm-11 1L8.5 8.5l.94-2.06 2.06-.94-2.06-.94L8.5 2.5l-.94 2.06-2.06.94zm10 10l.94 2.06.94-2.06 2.06-.94-2.06-.94-.94-2.06-.94 2.06-2.06.94z\"/><path d=\"M17.41 7.96l-1.37-1.37c-.4-.4-.92-.59-1.43-.59-.52 0-1.04.2-1.43.59L10.3 9.45l-7.72 7.72c-.78.78-.78 2.05 0 2.83L4 21.41c.39.39.9.59 1.41.59.51 0 1.02-.2 1.41-.59l7.78-7.78 2.81-2.81c.8-.78.8-2.07 0-2.86zM5.41 20L4 18.59l7.72-7.72 1.47 1.35L5.41 20z\"/>\n",
              "  </svg>\n",
              "      </button>\n",
              "      \n",
              "  <style>\n",
              "    .colab-df-container {\n",
              "      display:flex;\n",
              "      flex-wrap:wrap;\n",
              "      gap: 12px;\n",
              "    }\n",
              "\n",
              "    .colab-df-convert {\n",
              "      background-color: #E8F0FE;\n",
              "      border: none;\n",
              "      border-radius: 50%;\n",
              "      cursor: pointer;\n",
              "      display: none;\n",
              "      fill: #1967D2;\n",
              "      height: 32px;\n",
              "      padding: 0 0 0 0;\n",
              "      width: 32px;\n",
              "    }\n",
              "\n",
              "    .colab-df-convert:hover {\n",
              "      background-color: #E2EBFA;\n",
              "      box-shadow: 0px 1px 2px rgba(60, 64, 67, 0.3), 0px 1px 3px 1px rgba(60, 64, 67, 0.15);\n",
              "      fill: #174EA6;\n",
              "    }\n",
              "\n",
              "    [theme=dark] .colab-df-convert {\n",
              "      background-color: #3B4455;\n",
              "      fill: #D2E3FC;\n",
              "    }\n",
              "\n",
              "    [theme=dark] .colab-df-convert:hover {\n",
              "      background-color: #434B5C;\n",
              "      box-shadow: 0px 1px 3px 1px rgba(0, 0, 0, 0.15);\n",
              "      filter: drop-shadow(0px 1px 2px rgba(0, 0, 0, 0.3));\n",
              "      fill: #FFFFFF;\n",
              "    }\n",
              "  </style>\n",
              "\n",
              "      <script>\n",
              "        const buttonEl =\n",
              "          document.querySelector('#df-f91ab87e-bbab-4cdc-a50d-26a120e276d7 button.colab-df-convert');\n",
              "        buttonEl.style.display =\n",
              "          google.colab.kernel.accessAllowed ? 'block' : 'none';\n",
              "\n",
              "        async function convertToInteractive(key) {\n",
              "          const element = document.querySelector('#df-f91ab87e-bbab-4cdc-a50d-26a120e276d7');\n",
              "          const dataTable =\n",
              "            await google.colab.kernel.invokeFunction('convertToInteractive',\n",
              "                                                     [key], {});\n",
              "          if (!dataTable) return;\n",
              "\n",
              "          const docLinkHtml = 'Like what you see? Visit the ' +\n",
              "            '<a target=\"_blank\" href=https://colab.research.google.com/notebooks/data_table.ipynb>data table notebook</a>'\n",
              "            + ' to learn more about interactive tables.';\n",
              "          element.innerHTML = '';\n",
              "          dataTable['output_type'] = 'display_data';\n",
              "          await google.colab.output.renderOutput(dataTable, element);\n",
              "          const docLink = document.createElement('div');\n",
              "          docLink.innerHTML = docLinkHtml;\n",
              "          element.appendChild(docLink);\n",
              "        }\n",
              "      </script>\n",
              "    </div>\n",
              "  </div>\n",
              "  "
            ]
          },
          "metadata": {},
          "execution_count": 9
        }
      ],
      "source": [
        "df_connections.head(3)"
      ]
    },
    {
      "cell_type": "code",
      "execution_count": 10,
      "metadata": {
        "id": "UmeLWOcKS-A6",
        "outputId": "0e792abc-6ab9-46a3-f69e-e02e2622d23b",
        "colab": {
          "base_uri": "https://localhost:8080/"
        }
      },
      "outputs": [
        {
          "output_type": "stream",
          "name": "stderr",
          "text": [
            "[nltk_data] Downloading package stopwords to /root/nltk_data...\n",
            "[nltk_data]   Unzipping corpora/stopwords.zip.\n"
          ]
        },
        {
          "output_type": "execute_result",
          "data": {
            "text/plain": [
              "True"
            ]
          },
          "metadata": {},
          "execution_count": 10
        }
      ],
      "source": [
        "import nltk\n",
        "nltk.download('stopwords')"
      ]
    },
    {
      "cell_type": "code",
      "execution_count": 11,
      "metadata": {
        "id": "g6mK9_prS-A7",
        "outputId": "ff49eced-4d43-4312-bb4d-37a1457ec4f4",
        "colab": {
          "base_uri": "https://localhost:8080/"
        }
      },
      "outputs": [
        {
          "output_type": "stream",
          "name": "stderr",
          "text": [
            "[nltk_data] Downloading package vader_lexicon to /root/nltk_data...\n"
          ]
        }
      ],
      "source": [
        "from nltk.corpus import stopwords\n",
        "from nltk.stem import SnowballStemmer\n",
        "import re\n",
        "nltk.download('vader_lexicon')\n",
        "from nltk.corpus import sentiwordnet as swn \n",
        "from nltk.sentiment.vader import SentimentIntensityAnalyzer"
      ]
    },
    {
      "cell_type": "code",
      "execution_count": 12,
      "metadata": {
        "id": "NdWGwHG0S-A7"
      },
      "outputs": [],
      "source": [
        "from bs4 import BeautifulSoup\n",
        "from html import unescape\n",
        "\n",
        "def remove_urls(x):\n",
        "    cleaned_string = re.sub(r'(https|http)?:\\/\\/(\\w|\\.|\\/|\\?|\\=|\\&|\\%)*\\b', '', str(x), flags=re.MULTILINE)\n",
        "    return cleaned_string"
      ]
    },
    {
      "cell_type": "code",
      "execution_count": 13,
      "metadata": {
        "id": "G6JqHy6xS-A7"
      },
      "outputs": [],
      "source": [
        "def unescape_stuff(x):\n",
        "    soup = BeautifulSoup(unescape(x), 'lxml')\n",
        "    return soup.text"
      ]
    },
    {
      "cell_type": "code",
      "execution_count": 14,
      "metadata": {
        "id": "Zo3Y4epOS-A8"
      },
      "outputs": [],
      "source": [
        "def deEmojify(x):\n",
        "    regrex_pattern = re.compile(pattern = \"[\"\n",
        "        u\"\\U0001F600-\\U0001F64F\"  # emoticons\n",
        "        u\"\\U0001F300-\\U0001F5FF\"  # symbols & pictographs\n",
        "        u\"\\U0001F680-\\U0001F6FF\"  # transport & map symbols\n",
        "        u\"\\U0001F1E0-\\U0001F1FF\"  # flags (iOS)\n",
        "                           \"]+\", flags = re.UNICODE)\n",
        "    return regrex_pattern.sub(r'', x)"
      ]
    },
    {
      "cell_type": "code",
      "execution_count": 15,
      "metadata": {
        "id": "e-Rx5IzgS-A8"
      },
      "outputs": [],
      "source": [
        "def remove_symbols(x):\n",
        "    cleaned_string = re.sub(r\"[^a-zA-Z0-9]+\", ' ', x)\n",
        "    return cleaned_string"
      ]
    },
    {
      "cell_type": "code",
      "execution_count": 16,
      "metadata": {
        "id": "48f7uXtcS-A8"
      },
      "outputs": [],
      "source": [
        "def unify_whitespaces(x):\n",
        "    cleaned_string = re.sub(' +', ' ', x)\n",
        "    return cleaned_string"
      ]
    },
    {
      "cell_type": "code",
      "execution_count": 17,
      "metadata": {
        "id": "Z-mOukLdS-A9"
      },
      "outputs": [],
      "source": [
        "df_connections['text'] = df_connections['text'].str.lower()"
      ]
    },
    {
      "cell_type": "code",
      "execution_count": 18,
      "metadata": {
        "id": "CjYe-TvpS-A9",
        "colab": {
          "base_uri": "https://localhost:8080/"
        },
        "outputId": "389fdee2-c677-417d-bc37-3874d6362ca6"
      },
      "outputs": [
        {
          "output_type": "stream",
          "name": "stderr",
          "text": [
            "<ipython-input-13-cc4f7966ef48>:2: MarkupResemblesLocatorWarning: The input looks more like a filename than markup. You may want to open this file and pass the filehandle into Beautiful Soup.\n",
            "  soup = BeautifulSoup(unescape(x), 'lxml')\n"
          ]
        }
      ],
      "source": [
        "df_connections['text'] = df_connections['text'].apply(remove_urls)\n",
        "df_connections['text'] = df_connections['text'].apply(unescape_stuff)\n",
        "df_connections['text'] = df_connections['text'].apply(deEmojify)\n",
        "df_connections['text'] = df_connections['text'].apply(remove_symbols)\n",
        "df_connections['text'] = df_connections['text'].apply(unify_whitespaces)"
      ]
    },
    {
      "cell_type": "code",
      "execution_count": 19,
      "metadata": {
        "id": "GAmq4TJqS-A9"
      },
      "outputs": [],
      "source": [
        "import spacy\n",
        "import nltk\n",
        "from nltk.corpus import stopwords\n",
        "from nltk.tokenize import word_tokenize\n",
        "sp = spacy.load('en_core_web_sm')\n",
        "\n",
        "cachedStopWords = sp.Defaults.stop_words\n",
        "cachedStopWords = [x.lower() for x in cachedStopWords]\n",
        "cachedStopWords.extend(list(stopwords.words('english')))\n",
        "cachedStopWords = list(set(cachedStopWords))\n",
        "\n",
        "def remove_stopwords(x):\n",
        "    \n",
        "    meaningful_words = []\n",
        "    my_list = x\n",
        "    \n",
        "    tokenized_my_list = word_tokenize(my_list) \n",
        "    meaningful_words = [w for w in tokenized_my_list if not w in cachedStopWords]\n",
        "        \n",
        "    return \" \".join(meaningful_words)"
      ]
    },
    {
      "cell_type": "code",
      "execution_count": 20,
      "metadata": {
        "id": "bF3ZH_iXS-A-",
        "outputId": "6424082b-7d26-4da9-9dc1-014bbdd582bf",
        "colab": {
          "base_uri": "https://localhost:8080/"
        }
      },
      "outputs": [
        {
          "output_type": "stream",
          "name": "stderr",
          "text": [
            "[nltk_data] Downloading package punkt to /root/nltk_data...\n",
            "[nltk_data]   Unzipping tokenizers/punkt.zip.\n"
          ]
        },
        {
          "output_type": "execute_result",
          "data": {
            "text/plain": [
              "True"
            ]
          },
          "metadata": {},
          "execution_count": 20
        }
      ],
      "source": [
        "import nltk\n",
        "nltk.download('punkt')"
      ]
    },
    {
      "cell_type": "code",
      "execution_count": 21,
      "metadata": {
        "id": "Y-tLpyj5S-A-"
      },
      "outputs": [],
      "source": [
        "df_connections['text'] = df_connections['text'].apply(remove_stopwords)"
      ]
    },
    {
      "cell_type": "code",
      "execution_count": 22,
      "metadata": {
        "id": "9K2sFXbeS-A-"
      },
      "outputs": [],
      "source": [
        "tweets_sents=df_connections.text.values\n",
        "tweets_words=[]\n",
        "for x in tweets_sents:\n",
        "    tweets_words.append(re.split(r'\\s+',x))"
      ]
    },
    {
      "cell_type": "code",
      "execution_count": 23,
      "metadata": {
        "id": "iglR7fwsS-A_",
        "outputId": "cbdd7b5b-1ee9-4981-d137-ec17ad131080",
        "colab": {
          "base_uri": "https://localhost:8080/"
        }
      },
      "outputs": [
        {
          "output_type": "execute_result",
          "data": {
            "text/plain": [
              "[['rt',\n",
              "  'sswowowo',\n",
              "  '1mikemorris',\n",
              "  'candicebergenmp',\n",
              "  'convoycandice',\n",
              "  'love',\n",
              "  'chickenvoy',\n",
              "  'clownvoy2022',\n",
              "  'freedomconvoy',\n",
              "  'ottawastrong',\n",
              "  'lawandorder'],\n",
              " ['rt',\n",
              "  'sswowowo',\n",
              "  '1mikemorris',\n",
              "  'candicebergenmp',\n",
              "  'convoycandice',\n",
              "  'love',\n",
              "  'chickenvoy',\n",
              "  'clownvoy2022',\n",
              "  'freedomconvoy',\n",
              "  'ottawastrong',\n",
              "  'lawandorder'],\n",
              " ['rt',\n",
              "  'sswowowo',\n",
              "  '1mikemorris',\n",
              "  'candicebergenmp',\n",
              "  'convoycandice',\n",
              "  'love',\n",
              "  'chickenvoy',\n",
              "  'clownvoy2022',\n",
              "  'freedomconvoy',\n",
              "  'ottawastrong',\n",
              "  'lawandorder']]"
            ]
          },
          "metadata": {},
          "execution_count": 23
        }
      ],
      "source": [
        "#Lower Case\n",
        "b=[]\n",
        "c=[]\n",
        "for x in tweets_words:\n",
        "    for y in x:\n",
        "        c.append(y.lower())\n",
        "    b.append(c); c=[]\n",
        "tweets_words=b\n",
        "tweets_words[:3]"
      ]
    },
    {
      "cell_type": "code",
      "execution_count": 24,
      "metadata": {
        "id": "fbSjftuMS-A_",
        "outputId": "9252c627-1b35-4d96-8d11-386afbf3411e",
        "colab": {
          "base_uri": "https://localhost:8080/"
        }
      },
      "outputs": [
        {
          "output_type": "stream",
          "name": "stderr",
          "text": [
            "[nltk_data] Downloading package wordnet to /root/nltk_data...\n"
          ]
        },
        {
          "output_type": "execute_result",
          "data": {
            "text/plain": [
              "True"
            ]
          },
          "metadata": {},
          "execution_count": 24
        }
      ],
      "source": [
        "import nltk\n",
        "nltk.download('wordnet')"
      ]
    },
    {
      "cell_type": "code",
      "execution_count": 25,
      "metadata": {
        "id": "BAKBggBlS-A_",
        "outputId": "e6725d93-a160-42fd-e131-c426afb4ee2b",
        "colab": {
          "base_uri": "https://localhost:8080/"
        }
      },
      "outputs": [
        {
          "output_type": "stream",
          "name": "stderr",
          "text": [
            "[nltk_data] Downloading collection 'all'\n",
            "[nltk_data]    | \n",
            "[nltk_data]    | Downloading package abc to /root/nltk_data...\n",
            "[nltk_data]    |   Unzipping corpora/abc.zip.\n",
            "[nltk_data]    | Downloading package alpino to /root/nltk_data...\n",
            "[nltk_data]    |   Unzipping corpora/alpino.zip.\n",
            "[nltk_data]    | Downloading package averaged_perceptron_tagger to\n",
            "[nltk_data]    |     /root/nltk_data...\n",
            "[nltk_data]    |   Unzipping taggers/averaged_perceptron_tagger.zip.\n",
            "[nltk_data]    | Downloading package averaged_perceptron_tagger_ru to\n",
            "[nltk_data]    |     /root/nltk_data...\n",
            "[nltk_data]    |   Unzipping\n",
            "[nltk_data]    |       taggers/averaged_perceptron_tagger_ru.zip.\n",
            "[nltk_data]    | Downloading package basque_grammars to\n",
            "[nltk_data]    |     /root/nltk_data...\n",
            "[nltk_data]    |   Unzipping grammars/basque_grammars.zip.\n",
            "[nltk_data]    | Downloading package bcp47 to /root/nltk_data...\n",
            "[nltk_data]    | Downloading package biocreative_ppi to\n",
            "[nltk_data]    |     /root/nltk_data...\n",
            "[nltk_data]    |   Unzipping corpora/biocreative_ppi.zip.\n",
            "[nltk_data]    | Downloading package bllip_wsj_no_aux to\n",
            "[nltk_data]    |     /root/nltk_data...\n",
            "[nltk_data]    |   Unzipping models/bllip_wsj_no_aux.zip.\n",
            "[nltk_data]    | Downloading package book_grammars to\n",
            "[nltk_data]    |     /root/nltk_data...\n",
            "[nltk_data]    |   Unzipping grammars/book_grammars.zip.\n",
            "[nltk_data]    | Downloading package brown to /root/nltk_data...\n",
            "[nltk_data]    |   Unzipping corpora/brown.zip.\n",
            "[nltk_data]    | Downloading package brown_tei to /root/nltk_data...\n",
            "[nltk_data]    |   Unzipping corpora/brown_tei.zip.\n",
            "[nltk_data]    | Downloading package cess_cat to /root/nltk_data...\n",
            "[nltk_data]    |   Unzipping corpora/cess_cat.zip.\n",
            "[nltk_data]    | Downloading package cess_esp to /root/nltk_data...\n",
            "[nltk_data]    |   Unzipping corpora/cess_esp.zip.\n",
            "[nltk_data]    | Downloading package chat80 to /root/nltk_data...\n",
            "[nltk_data]    |   Unzipping corpora/chat80.zip.\n",
            "[nltk_data]    | Downloading package city_database to\n",
            "[nltk_data]    |     /root/nltk_data...\n",
            "[nltk_data]    |   Unzipping corpora/city_database.zip.\n",
            "[nltk_data]    | Downloading package cmudict to /root/nltk_data...\n",
            "[nltk_data]    |   Unzipping corpora/cmudict.zip.\n",
            "[nltk_data]    | Downloading package comparative_sentences to\n",
            "[nltk_data]    |     /root/nltk_data...\n",
            "[nltk_data]    |   Unzipping corpora/comparative_sentences.zip.\n",
            "[nltk_data]    | Downloading package comtrans to /root/nltk_data...\n",
            "[nltk_data]    | Downloading package conll2000 to /root/nltk_data...\n",
            "[nltk_data]    |   Unzipping corpora/conll2000.zip.\n",
            "[nltk_data]    | Downloading package conll2002 to /root/nltk_data...\n",
            "[nltk_data]    |   Unzipping corpora/conll2002.zip.\n",
            "[nltk_data]    | Downloading package conll2007 to /root/nltk_data...\n",
            "[nltk_data]    | Downloading package crubadan to /root/nltk_data...\n",
            "[nltk_data]    |   Unzipping corpora/crubadan.zip.\n",
            "[nltk_data]    | Downloading package dependency_treebank to\n",
            "[nltk_data]    |     /root/nltk_data...\n",
            "[nltk_data]    |   Unzipping corpora/dependency_treebank.zip.\n",
            "[nltk_data]    | Downloading package dolch to /root/nltk_data...\n",
            "[nltk_data]    |   Unzipping corpora/dolch.zip.\n",
            "[nltk_data]    | Downloading package europarl_raw to\n",
            "[nltk_data]    |     /root/nltk_data...\n",
            "[nltk_data]    |   Unzipping corpora/europarl_raw.zip.\n",
            "[nltk_data]    | Downloading package extended_omw to\n",
            "[nltk_data]    |     /root/nltk_data...\n",
            "[nltk_data]    | Downloading package floresta to /root/nltk_data...\n",
            "[nltk_data]    |   Unzipping corpora/floresta.zip.\n",
            "[nltk_data]    | Downloading package framenet_v15 to\n",
            "[nltk_data]    |     /root/nltk_data...\n",
            "[nltk_data]    |   Unzipping corpora/framenet_v15.zip.\n",
            "[nltk_data]    | Downloading package framenet_v17 to\n",
            "[nltk_data]    |     /root/nltk_data...\n",
            "[nltk_data]    |   Unzipping corpora/framenet_v17.zip.\n",
            "[nltk_data]    | Downloading package gazetteers to /root/nltk_data...\n",
            "[nltk_data]    |   Unzipping corpora/gazetteers.zip.\n",
            "[nltk_data]    | Downloading package genesis to /root/nltk_data...\n",
            "[nltk_data]    |   Unzipping corpora/genesis.zip.\n",
            "[nltk_data]    | Downloading package gutenberg to /root/nltk_data...\n",
            "[nltk_data]    |   Unzipping corpora/gutenberg.zip.\n",
            "[nltk_data]    | Downloading package ieer to /root/nltk_data...\n",
            "[nltk_data]    |   Unzipping corpora/ieer.zip.\n",
            "[nltk_data]    | Downloading package inaugural to /root/nltk_data...\n",
            "[nltk_data]    |   Unzipping corpora/inaugural.zip.\n",
            "[nltk_data]    | Downloading package indian to /root/nltk_data...\n",
            "[nltk_data]    |   Unzipping corpora/indian.zip.\n",
            "[nltk_data]    | Downloading package jeita to /root/nltk_data...\n",
            "[nltk_data]    | Downloading package kimmo to /root/nltk_data...\n",
            "[nltk_data]    |   Unzipping corpora/kimmo.zip.\n",
            "[nltk_data]    | Downloading package knbc to /root/nltk_data...\n",
            "[nltk_data]    | Downloading package large_grammars to\n",
            "[nltk_data]    |     /root/nltk_data...\n",
            "[nltk_data]    |   Unzipping grammars/large_grammars.zip.\n",
            "[nltk_data]    | Downloading package lin_thesaurus to\n",
            "[nltk_data]    |     /root/nltk_data...\n",
            "[nltk_data]    |   Unzipping corpora/lin_thesaurus.zip.\n",
            "[nltk_data]    | Downloading package mac_morpho to /root/nltk_data...\n",
            "[nltk_data]    |   Unzipping corpora/mac_morpho.zip.\n",
            "[nltk_data]    | Downloading package machado to /root/nltk_data...\n",
            "[nltk_data]    | Downloading package masc_tagged to /root/nltk_data...\n",
            "[nltk_data]    | Downloading package maxent_ne_chunker to\n",
            "[nltk_data]    |     /root/nltk_data...\n",
            "[nltk_data]    |   Unzipping chunkers/maxent_ne_chunker.zip.\n",
            "[nltk_data]    | Downloading package maxent_treebank_pos_tagger to\n",
            "[nltk_data]    |     /root/nltk_data...\n",
            "[nltk_data]    |   Unzipping taggers/maxent_treebank_pos_tagger.zip.\n",
            "[nltk_data]    | Downloading package moses_sample to\n",
            "[nltk_data]    |     /root/nltk_data...\n",
            "[nltk_data]    |   Unzipping models/moses_sample.zip.\n",
            "[nltk_data]    | Downloading package movie_reviews to\n",
            "[nltk_data]    |     /root/nltk_data...\n",
            "[nltk_data]    |   Unzipping corpora/movie_reviews.zip.\n",
            "[nltk_data]    | Downloading package mte_teip5 to /root/nltk_data...\n",
            "[nltk_data]    |   Unzipping corpora/mte_teip5.zip.\n",
            "[nltk_data]    | Downloading package mwa_ppdb to /root/nltk_data...\n",
            "[nltk_data]    |   Unzipping misc/mwa_ppdb.zip.\n",
            "[nltk_data]    | Downloading package names to /root/nltk_data...\n",
            "[nltk_data]    |   Unzipping corpora/names.zip.\n",
            "[nltk_data]    | Downloading package nombank.1.0 to /root/nltk_data...\n",
            "[nltk_data]    | Downloading package nonbreaking_prefixes to\n",
            "[nltk_data]    |     /root/nltk_data...\n",
            "[nltk_data]    |   Unzipping corpora/nonbreaking_prefixes.zip.\n",
            "[nltk_data]    | Downloading package nps_chat to /root/nltk_data...\n",
            "[nltk_data]    |   Unzipping corpora/nps_chat.zip.\n",
            "[nltk_data]    | Downloading package omw to /root/nltk_data...\n",
            "[nltk_data]    | Downloading package omw-1.4 to /root/nltk_data...\n",
            "[nltk_data]    | Downloading package opinion_lexicon to\n",
            "[nltk_data]    |     /root/nltk_data...\n",
            "[nltk_data]    |   Unzipping corpora/opinion_lexicon.zip.\n",
            "[nltk_data]    | Downloading package panlex_swadesh to\n",
            "[nltk_data]    |     /root/nltk_data...\n",
            "[nltk_data]    | Downloading package paradigms to /root/nltk_data...\n",
            "[nltk_data]    |   Unzipping corpora/paradigms.zip.\n",
            "[nltk_data]    | Downloading package pe08 to /root/nltk_data...\n",
            "[nltk_data]    |   Unzipping corpora/pe08.zip.\n",
            "[nltk_data]    | Downloading package perluniprops to\n",
            "[nltk_data]    |     /root/nltk_data...\n",
            "[nltk_data]    |   Unzipping misc/perluniprops.zip.\n",
            "[nltk_data]    | Downloading package pil to /root/nltk_data...\n",
            "[nltk_data]    |   Unzipping corpora/pil.zip.\n",
            "[nltk_data]    | Downloading package pl196x to /root/nltk_data...\n",
            "[nltk_data]    |   Unzipping corpora/pl196x.zip.\n",
            "[nltk_data]    | Downloading package porter_test to /root/nltk_data...\n",
            "[nltk_data]    |   Unzipping stemmers/porter_test.zip.\n",
            "[nltk_data]    | Downloading package ppattach to /root/nltk_data...\n",
            "[nltk_data]    |   Unzipping corpora/ppattach.zip.\n",
            "[nltk_data]    | Downloading package problem_reports to\n",
            "[nltk_data]    |     /root/nltk_data...\n",
            "[nltk_data]    |   Unzipping corpora/problem_reports.zip.\n",
            "[nltk_data]    | Downloading package product_reviews_1 to\n",
            "[nltk_data]    |     /root/nltk_data...\n",
            "[nltk_data]    |   Unzipping corpora/product_reviews_1.zip.\n",
            "[nltk_data]    | Downloading package product_reviews_2 to\n",
            "[nltk_data]    |     /root/nltk_data...\n",
            "[nltk_data]    |   Unzipping corpora/product_reviews_2.zip.\n",
            "[nltk_data]    | Downloading package propbank to /root/nltk_data...\n",
            "[nltk_data]    | Downloading package pros_cons to /root/nltk_data...\n",
            "[nltk_data]    |   Unzipping corpora/pros_cons.zip.\n",
            "[nltk_data]    | Downloading package ptb to /root/nltk_data...\n",
            "[nltk_data]    |   Unzipping corpora/ptb.zip.\n",
            "[nltk_data]    | Downloading package punkt to /root/nltk_data...\n",
            "[nltk_data]    |   Package punkt is already up-to-date!\n",
            "[nltk_data]    | Downloading package qc to /root/nltk_data...\n",
            "[nltk_data]    |   Unzipping corpora/qc.zip.\n",
            "[nltk_data]    | Downloading package reuters to /root/nltk_data...\n",
            "[nltk_data]    | Downloading package rslp to /root/nltk_data...\n",
            "[nltk_data]    |   Unzipping stemmers/rslp.zip.\n",
            "[nltk_data]    | Downloading package rte to /root/nltk_data...\n",
            "[nltk_data]    |   Unzipping corpora/rte.zip.\n",
            "[nltk_data]    | Downloading package sample_grammars to\n",
            "[nltk_data]    |     /root/nltk_data...\n",
            "[nltk_data]    |   Unzipping grammars/sample_grammars.zip.\n",
            "[nltk_data]    | Downloading package semcor to /root/nltk_data...\n",
            "[nltk_data]    | Downloading package senseval to /root/nltk_data...\n",
            "[nltk_data]    |   Unzipping corpora/senseval.zip.\n",
            "[nltk_data]    | Downloading package sentence_polarity to\n",
            "[nltk_data]    |     /root/nltk_data...\n",
            "[nltk_data]    |   Unzipping corpora/sentence_polarity.zip.\n",
            "[nltk_data]    | Downloading package sentiwordnet to\n",
            "[nltk_data]    |     /root/nltk_data...\n",
            "[nltk_data]    |   Unzipping corpora/sentiwordnet.zip.\n",
            "[nltk_data]    | Downloading package shakespeare to /root/nltk_data...\n",
            "[nltk_data]    |   Unzipping corpora/shakespeare.zip.\n",
            "[nltk_data]    | Downloading package sinica_treebank to\n",
            "[nltk_data]    |     /root/nltk_data...\n",
            "[nltk_data]    |   Unzipping corpora/sinica_treebank.zip.\n",
            "[nltk_data]    | Downloading package smultron to /root/nltk_data...\n",
            "[nltk_data]    |   Unzipping corpora/smultron.zip.\n",
            "[nltk_data]    | Downloading package snowball_data to\n",
            "[nltk_data]    |     /root/nltk_data...\n",
            "[nltk_data]    | Downloading package spanish_grammars to\n",
            "[nltk_data]    |     /root/nltk_data...\n",
            "[nltk_data]    |   Unzipping grammars/spanish_grammars.zip.\n",
            "[nltk_data]    | Downloading package state_union to /root/nltk_data...\n",
            "[nltk_data]    |   Unzipping corpora/state_union.zip.\n",
            "[nltk_data]    | Downloading package stopwords to /root/nltk_data...\n",
            "[nltk_data]    |   Package stopwords is already up-to-date!\n",
            "[nltk_data]    | Downloading package subjectivity to\n",
            "[nltk_data]    |     /root/nltk_data...\n",
            "[nltk_data]    |   Unzipping corpora/subjectivity.zip.\n",
            "[nltk_data]    | Downloading package swadesh to /root/nltk_data...\n",
            "[nltk_data]    |   Unzipping corpora/swadesh.zip.\n",
            "[nltk_data]    | Downloading package switchboard to /root/nltk_data...\n",
            "[nltk_data]    |   Unzipping corpora/switchboard.zip.\n",
            "[nltk_data]    | Downloading package tagsets to /root/nltk_data...\n",
            "[nltk_data]    |   Unzipping help/tagsets.zip.\n",
            "[nltk_data]    | Downloading package timit to /root/nltk_data...\n",
            "[nltk_data]    |   Unzipping corpora/timit.zip.\n",
            "[nltk_data]    | Downloading package toolbox to /root/nltk_data...\n",
            "[nltk_data]    |   Unzipping corpora/toolbox.zip.\n",
            "[nltk_data]    | Downloading package treebank to /root/nltk_data...\n",
            "[nltk_data]    |   Unzipping corpora/treebank.zip.\n",
            "[nltk_data]    | Downloading package twitter_samples to\n",
            "[nltk_data]    |     /root/nltk_data...\n",
            "[nltk_data]    |   Unzipping corpora/twitter_samples.zip.\n",
            "[nltk_data]    | Downloading package udhr to /root/nltk_data...\n",
            "[nltk_data]    |   Unzipping corpora/udhr.zip.\n",
            "[nltk_data]    | Downloading package udhr2 to /root/nltk_data...\n",
            "[nltk_data]    |   Unzipping corpora/udhr2.zip.\n",
            "[nltk_data]    | Downloading package unicode_samples to\n",
            "[nltk_data]    |     /root/nltk_data...\n",
            "[nltk_data]    |   Unzipping corpora/unicode_samples.zip.\n",
            "[nltk_data]    | Downloading package universal_tagset to\n",
            "[nltk_data]    |     /root/nltk_data...\n",
            "[nltk_data]    |   Unzipping taggers/universal_tagset.zip.\n",
            "[nltk_data]    | Downloading package universal_treebanks_v20 to\n",
            "[nltk_data]    |     /root/nltk_data...\n",
            "[nltk_data]    | Downloading package vader_lexicon to\n",
            "[nltk_data]    |     /root/nltk_data...\n",
            "[nltk_data]    |   Package vader_lexicon is already up-to-date!\n",
            "[nltk_data]    | Downloading package verbnet to /root/nltk_data...\n",
            "[nltk_data]    |   Unzipping corpora/verbnet.zip.\n",
            "[nltk_data]    | Downloading package verbnet3 to /root/nltk_data...\n",
            "[nltk_data]    |   Unzipping corpora/verbnet3.zip.\n",
            "[nltk_data]    | Downloading package webtext to /root/nltk_data...\n",
            "[nltk_data]    |   Unzipping corpora/webtext.zip.\n",
            "[nltk_data]    | Downloading package wmt15_eval to /root/nltk_data...\n",
            "[nltk_data]    |   Unzipping models/wmt15_eval.zip.\n",
            "[nltk_data]    | Downloading package word2vec_sample to\n",
            "[nltk_data]    |     /root/nltk_data...\n",
            "[nltk_data]    |   Unzipping models/word2vec_sample.zip.\n",
            "[nltk_data]    | Downloading package wordnet to /root/nltk_data...\n",
            "[nltk_data]    |   Package wordnet is already up-to-date!\n",
            "[nltk_data]    | Downloading package wordnet2021 to /root/nltk_data...\n",
            "[nltk_data]    | Downloading package wordnet2022 to /root/nltk_data...\n",
            "[nltk_data]    |   Unzipping corpora/wordnet2022.zip.\n",
            "[nltk_data]    | Downloading package wordnet31 to /root/nltk_data...\n",
            "[nltk_data]    | Downloading package wordnet_ic to /root/nltk_data...\n",
            "[nltk_data]    |   Unzipping corpora/wordnet_ic.zip.\n",
            "[nltk_data]    | Downloading package words to /root/nltk_data...\n",
            "[nltk_data]    |   Unzipping corpora/words.zip.\n",
            "[nltk_data]    | Downloading package ycoe to /root/nltk_data...\n",
            "[nltk_data]    |   Unzipping corpora/ycoe.zip.\n",
            "[nltk_data]    | \n",
            "[nltk_data]  Done downloading collection all\n"
          ]
        },
        {
          "output_type": "execute_result",
          "data": {
            "text/plain": [
              "True"
            ]
          },
          "metadata": {},
          "execution_count": 25
        }
      ],
      "source": [
        "import nltk\n",
        "nltk.download('all')"
      ]
    },
    {
      "cell_type": "code",
      "execution_count": 26,
      "metadata": {
        "id": "O2UIpUFyS-BA"
      },
      "outputs": [],
      "source": [
        "tweets_sents=[]\n",
        "#Lemmatize using WordNetLemmatizer\n",
        "for x in tweets_words:\n",
        "    for y in x:\n",
        "        lemma= nltk.WordNetLemmatizer()\n",
        "        c.append(lemma.lemmatize(y))\n",
        "    tweets_sents.append(c);\n",
        "tweet_words=tweets_sents;c=[];tweets_sents=[]"
      ]
    },
    {
      "cell_type": "code",
      "execution_count": 27,
      "metadata": {
        "id": "iUz3QrH0S-BB"
      },
      "outputs": [],
      "source": [
        "#Remove Stopwords From The Tweets\n",
        "stopwords=nltk.corpus.stopwords.words('english')\n",
        "b=[]\n",
        "c=[]\n",
        "for x in tweets_words:\n",
        "    for y in x:\n",
        "        if y not in stopwords:\n",
        "            c.append(y)\n",
        "    b.append(c);c=[]\n",
        "for x in b:\n",
        "    tweets_sents.append(' '.join(x))"
      ]
    },
    {
      "cell_type": "code",
      "execution_count": 28,
      "metadata": {
        "id": "InDfCk38S-BB",
        "outputId": "bfdfed8a-0b30-4532-ac30-4b2fcdca8d00",
        "colab": {
          "base_uri": "https://localhost:8080/"
        }
      },
      "outputs": [
        {
          "output_type": "execute_result",
          "data": {
            "text/plain": [
              "['rt sswowowo mikemorris candicebergenmp convoycandice love chickenvoy clownvoy freedomconvoy ottawastrong lawandorder',\n",
              " 'rt sswowowo mikemorris candicebergenmp convoycandice love chickenvoy clownvoy freedomconvoy ottawastrong lawandorder',\n",
              " 'rt sswowowo mikemorris candicebergenmp convoycandice love chickenvoy clownvoy freedomconvoy ottawastrong lawandorder',\n",
              " 'rt truckyoufrudeau oh good lord bullshit knows bounds hear words come mouth trudea',\n",
              " 'rt akatelyn leaky tank menu sarniaon restaurant followed legislation masks vaccine passports boasted']"
            ]
          },
          "metadata": {},
          "execution_count": 28
        }
      ],
      "source": [
        "#Extract Words And Tweets Only From the Data\n",
        "b=[]\n",
        "c=[]\n",
        "for x in tweets_sents:\n",
        "    b.append(re.findall(r'#?[a-zA-Z]+',x))\n",
        "tweets_words=b; tweets_sents=[]\n",
        "for x in b:\n",
        "    tweets_sents.append(' '.join(x))\n",
        "tweets_sents[:5]"
      ]
    },
    {
      "cell_type": "code",
      "execution_count": 29,
      "metadata": {
        "id": "BRqcm2J7S-BB",
        "outputId": "33129862-dc7b-4c3b-c42f-7d66a304a0a1",
        "colab": {
          "base_uri": "https://localhost:8080/"
        }
      },
      "outputs": [
        {
          "output_type": "execute_result",
          "data": {
            "text/plain": [
              "[{'neg': 0.0, 'neu': 0.704, 'pos': 0.296, 'compound': 0.6369},\n",
              " {'neg': 0.0, 'neu': 0.704, 'pos': 0.296, 'compound': 0.6369},\n",
              " {'neg': 0.0, 'neu': 0.704, 'pos': 0.296, 'compound': 0.6369},\n",
              " {'neg': 0.215, 'neu': 0.621, 'pos': 0.164, 'compound': -0.2263},\n",
              " {'neg': 0.0, 'neu': 1.0, 'pos': 0.0, 'compound': 0.0}]"
            ]
          },
          "metadata": {},
          "execution_count": 29
        }
      ],
      "source": [
        "vadler_scores=[]\n",
        "for x in tweets_sents:\n",
        "    analyzer=SentimentIntensityAnalyzer()\n",
        "    vadler_scores.append(analyzer.polarity_scores(x))\n",
        "vadler_scores[:5]"
      ]
    },
    {
      "cell_type": "code",
      "execution_count": 30,
      "metadata": {
        "id": "PVYP9UVES-BB",
        "outputId": "a956b752-051a-4e1d-dbe8-fdf64d9f8ebf",
        "colab": {
          "base_uri": "https://localhost:8080/",
          "height": 206
        }
      },
      "outputs": [
        {
          "output_type": "execute_result",
          "data": {
            "text/plain": [
              "     neg    neu    pos  compound Sentiments  \\\n",
              "0  0.000  0.704  0.296    0.6369   Positive   \n",
              "1  0.000  0.704  0.296    0.6369   Positive   \n",
              "2  0.000  0.704  0.296    0.6369   Positive   \n",
              "3  0.215  0.621  0.164   -0.2263   Negative   \n",
              "4  0.000  1.000  0.000    0.0000    Neutral   \n",
              "\n",
              "                                              Tweets  \n",
              "0  [rt, sswowowo, mikemorris, candicebergenmp, co...  \n",
              "1  [rt, sswowowo, mikemorris, candicebergenmp, co...  \n",
              "2  [rt, sswowowo, mikemorris, candicebergenmp, co...  \n",
              "3  [rt, truckyoufrudeau, oh, good, lord, bullshit...  \n",
              "4  [rt, akatelyn, leaky, tank, menu, sarniaon, re...  "
            ],
            "text/html": [
              "\n",
              "  <div id=\"df-e60d7c95-dd89-4190-81b4-9eaae62bdddc\">\n",
              "    <div class=\"colab-df-container\">\n",
              "      <div>\n",
              "<style scoped>\n",
              "    .dataframe tbody tr th:only-of-type {\n",
              "        vertical-align: middle;\n",
              "    }\n",
              "\n",
              "    .dataframe tbody tr th {\n",
              "        vertical-align: top;\n",
              "    }\n",
              "\n",
              "    .dataframe thead th {\n",
              "        text-align: right;\n",
              "    }\n",
              "</style>\n",
              "<table border=\"1\" class=\"dataframe\">\n",
              "  <thead>\n",
              "    <tr style=\"text-align: right;\">\n",
              "      <th></th>\n",
              "      <th>neg</th>\n",
              "      <th>neu</th>\n",
              "      <th>pos</th>\n",
              "      <th>compound</th>\n",
              "      <th>Sentiments</th>\n",
              "      <th>Tweets</th>\n",
              "    </tr>\n",
              "  </thead>\n",
              "  <tbody>\n",
              "    <tr>\n",
              "      <th>0</th>\n",
              "      <td>0.000</td>\n",
              "      <td>0.704</td>\n",
              "      <td>0.296</td>\n",
              "      <td>0.6369</td>\n",
              "      <td>Positive</td>\n",
              "      <td>[rt, sswowowo, mikemorris, candicebergenmp, co...</td>\n",
              "    </tr>\n",
              "    <tr>\n",
              "      <th>1</th>\n",
              "      <td>0.000</td>\n",
              "      <td>0.704</td>\n",
              "      <td>0.296</td>\n",
              "      <td>0.6369</td>\n",
              "      <td>Positive</td>\n",
              "      <td>[rt, sswowowo, mikemorris, candicebergenmp, co...</td>\n",
              "    </tr>\n",
              "    <tr>\n",
              "      <th>2</th>\n",
              "      <td>0.000</td>\n",
              "      <td>0.704</td>\n",
              "      <td>0.296</td>\n",
              "      <td>0.6369</td>\n",
              "      <td>Positive</td>\n",
              "      <td>[rt, sswowowo, mikemorris, candicebergenmp, co...</td>\n",
              "    </tr>\n",
              "    <tr>\n",
              "      <th>3</th>\n",
              "      <td>0.215</td>\n",
              "      <td>0.621</td>\n",
              "      <td>0.164</td>\n",
              "      <td>-0.2263</td>\n",
              "      <td>Negative</td>\n",
              "      <td>[rt, truckyoufrudeau, oh, good, lord, bullshit...</td>\n",
              "    </tr>\n",
              "    <tr>\n",
              "      <th>4</th>\n",
              "      <td>0.000</td>\n",
              "      <td>1.000</td>\n",
              "      <td>0.000</td>\n",
              "      <td>0.0000</td>\n",
              "      <td>Neutral</td>\n",
              "      <td>[rt, akatelyn, leaky, tank, menu, sarniaon, re...</td>\n",
              "    </tr>\n",
              "  </tbody>\n",
              "</table>\n",
              "</div>\n",
              "      <button class=\"colab-df-convert\" onclick=\"convertToInteractive('df-e60d7c95-dd89-4190-81b4-9eaae62bdddc')\"\n",
              "              title=\"Convert this dataframe to an interactive table.\"\n",
              "              style=\"display:none;\">\n",
              "        \n",
              "  <svg xmlns=\"http://www.w3.org/2000/svg\" height=\"24px\"viewBox=\"0 0 24 24\"\n",
              "       width=\"24px\">\n",
              "    <path d=\"M0 0h24v24H0V0z\" fill=\"none\"/>\n",
              "    <path d=\"M18.56 5.44l.94 2.06.94-2.06 2.06-.94-2.06-.94-.94-2.06-.94 2.06-2.06.94zm-11 1L8.5 8.5l.94-2.06 2.06-.94-2.06-.94L8.5 2.5l-.94 2.06-2.06.94zm10 10l.94 2.06.94-2.06 2.06-.94-2.06-.94-.94-2.06-.94 2.06-2.06.94z\"/><path d=\"M17.41 7.96l-1.37-1.37c-.4-.4-.92-.59-1.43-.59-.52 0-1.04.2-1.43.59L10.3 9.45l-7.72 7.72c-.78.78-.78 2.05 0 2.83L4 21.41c.39.39.9.59 1.41.59.51 0 1.02-.2 1.41-.59l7.78-7.78 2.81-2.81c.8-.78.8-2.07 0-2.86zM5.41 20L4 18.59l7.72-7.72 1.47 1.35L5.41 20z\"/>\n",
              "  </svg>\n",
              "      </button>\n",
              "      \n",
              "  <style>\n",
              "    .colab-df-container {\n",
              "      display:flex;\n",
              "      flex-wrap:wrap;\n",
              "      gap: 12px;\n",
              "    }\n",
              "\n",
              "    .colab-df-convert {\n",
              "      background-color: #E8F0FE;\n",
              "      border: none;\n",
              "      border-radius: 50%;\n",
              "      cursor: pointer;\n",
              "      display: none;\n",
              "      fill: #1967D2;\n",
              "      height: 32px;\n",
              "      padding: 0 0 0 0;\n",
              "      width: 32px;\n",
              "    }\n",
              "\n",
              "    .colab-df-convert:hover {\n",
              "      background-color: #E2EBFA;\n",
              "      box-shadow: 0px 1px 2px rgba(60, 64, 67, 0.3), 0px 1px 3px 1px rgba(60, 64, 67, 0.15);\n",
              "      fill: #174EA6;\n",
              "    }\n",
              "\n",
              "    [theme=dark] .colab-df-convert {\n",
              "      background-color: #3B4455;\n",
              "      fill: #D2E3FC;\n",
              "    }\n",
              "\n",
              "    [theme=dark] .colab-df-convert:hover {\n",
              "      background-color: #434B5C;\n",
              "      box-shadow: 0px 1px 3px 1px rgba(0, 0, 0, 0.15);\n",
              "      filter: drop-shadow(0px 1px 2px rgba(0, 0, 0, 0.3));\n",
              "      fill: #FFFFFF;\n",
              "    }\n",
              "  </style>\n",
              "\n",
              "      <script>\n",
              "        const buttonEl =\n",
              "          document.querySelector('#df-e60d7c95-dd89-4190-81b4-9eaae62bdddc button.colab-df-convert');\n",
              "        buttonEl.style.display =\n",
              "          google.colab.kernel.accessAllowed ? 'block' : 'none';\n",
              "\n",
              "        async function convertToInteractive(key) {\n",
              "          const element = document.querySelector('#df-e60d7c95-dd89-4190-81b4-9eaae62bdddc');\n",
              "          const dataTable =\n",
              "            await google.colab.kernel.invokeFunction('convertToInteractive',\n",
              "                                                     [key], {});\n",
              "          if (!dataTable) return;\n",
              "\n",
              "          const docLinkHtml = 'Like what you see? Visit the ' +\n",
              "            '<a target=\"_blank\" href=https://colab.research.google.com/notebooks/data_table.ipynb>data table notebook</a>'\n",
              "            + ' to learn more about interactive tables.';\n",
              "          element.innerHTML = '';\n",
              "          dataTable['output_type'] = 'display_data';\n",
              "          await google.colab.output.renderOutput(dataTable, element);\n",
              "          const docLink = document.createElement('div');\n",
              "          docLink.innerHTML = docLinkHtml;\n",
              "          element.appendChild(docLink);\n",
              "        }\n",
              "      </script>\n",
              "    </div>\n",
              "  </div>\n",
              "  "
            ]
          },
          "metadata": {},
          "execution_count": 30
        }
      ],
      "source": [
        "vadler_df=pd.DataFrame(vadler_scores)\n",
        "sentiments=[]\n",
        "for x in vadler_df['compound']:\n",
        "    if x<0:\n",
        "        sentiments.append('Negative');\n",
        "    elif x==0:\n",
        "        sentiments.append('Neutral');\n",
        "    elif x>0:\n",
        "        sentiments.append('Positive');\n",
        "vadler_df['Sentiments']=sentiments\n",
        "vadler_df['Tweets']=tweets_words\n",
        "vadler_df.head()"
      ]
    },
    {
      "cell_type": "code",
      "execution_count": 31,
      "metadata": {
        "id": "rO6UEwcmS-BC"
      },
      "outputs": [],
      "source": [
        "import matplotlib.pyplot as plt"
      ]
    },
    {
      "cell_type": "code",
      "execution_count": 32,
      "metadata": {
        "id": "HtrfF4tUS-BC",
        "outputId": "b8dd0b19-e643-45e2-cd9a-26af15c1c6f2",
        "colab": {
          "base_uri": "https://localhost:8080/",
          "height": 609
        }
      },
      "outputs": [
        {
          "output_type": "display_data",
          "data": {
            "text/plain": [
              "<Figure size 720x720 with 1 Axes>"
            ],
            "image/png": "[encoded data removed]"
          },
          "metadata": {}
        },
        {
          "output_type": "stream",
          "name": "stdout",
          "text": [
            "Fig 1.2\n"
          ]
        }
      ],
      "source": [
        "#Pie Chart of sentiments\n",
        "plt.figure(figsize=(10,10))\n",
        "plt.title('Sentiment Analysis',size=15)\n",
        "plt.pie(vadler_df.Sentiments.value_counts().values,labels=['Positive','Neutral','Negative'],explode=[0.05,0.05,0.05],autopct='%.2f', shadow=True)\n",
        "plt.legend(loc='upper right')\n",
        "plt.show()\n",
        "print('Fig 1.2')"
      ]
    },
    {
      "cell_type": "code",
      "source": [
        "import matplotlib.pyplot as plt\n",
        "# Pie chart\n",
        "plt.figure(figsize=(10,10))\n",
        "\n",
        "labels = ['Negative', 'Neutral', 'Positive']\n",
        "sizes = [24.35, 33.07, 42.59]\n",
        "#colors\n",
        "colors = ['#ff9999','#66b3ff','#99ff99']\n",
        " \n",
        "fig1, ax1 = plt.subplots()\n",
        "patches, texts, autotexts = ax1.pie(sizes, colors = colors, labels=labels, autopct='%1.1f%%', explode=[0.05,0.05,0.05], shadow=True)\n",
        "for text in texts:\n",
        "    text.set_color('grey')\n",
        "for autotext in autotexts:\n",
        "    autotext.set_color('grey')\n",
        "# Equal aspect ratio ensures that pie is drawn as a circle\n",
        "ax1.axis('equal')  \n",
        "plt.tight_layout()\n",
        "plt.show()"
      ],
      "metadata": {
        "colab": {
          "base_uri": "https://localhost:8080/",
          "height": 315
        },
        "id": "hGHZ8ixe8B1m",
        "outputId": "7b030f63-fa08-4e71-ca08-5de2497d1bc8"
      },
      "execution_count": 33,
      "outputs": [
        {
          "output_type": "display_data",
          "data": {
            "text/plain": [
              "<Figure size 720x720 with 0 Axes>"
            ]
          },
          "metadata": {}
        },
        {
          "output_type": "display_data",
          "data": {
            "text/plain": [
              "<Figure size 432x288 with 1 Axes>"
            ],
            "image/png": "[encoded data removed]"
          },
          "metadata": {}
        }
      ]
    },
    {
      "cell_type": "markdown",
      "source": [
        "Cluster 0 sentiment visualization\n"
      ],
      "metadata": {
        "id": "OfUUCIuQ-cHa"
      }
    },
    {
      "cell_type": "code",
      "source": [
        "import matplotlib.pyplot as plt\n",
        "# Pie chart\n",
        "plt.figure(figsize=(10,10))\n",
        "\n",
        "labels = ['Negative', 'Neutral', 'Positive']\n",
        "sizes = [31.17, 32.29, 36.54]\n",
        "#colors\n",
        "colors = ['#ff9999','#66b3ff','#99ff99']\n",
        " \n",
        "fig1, ax1 = plt.subplots()\n",
        "patches, texts, autotexts = ax1.pie(sizes, colors = colors, labels=labels, autopct='%1.1f%%', explode=[0.05,0.05,0.05], shadow=True)\n",
        "for text in texts:\n",
        "    text.set_color('grey')\n",
        "for autotext in autotexts:\n",
        "    autotext.set_color('grey')\n",
        "# Equal aspect ratio ensures that pie is drawn as a circle\n",
        "ax1.axis('equal')  \n",
        "plt.tight_layout()\n",
        "plt.show()"
      ],
      "metadata": {
        "colab": {
          "base_uri": "https://localhost:8080/",
          "height": 314
        },
        "id": "0-Ps_7n4-D6M",
        "outputId": "2405b5b4-5760-497f-8c5b-db192277557c"
      },
      "execution_count": 34,
      "outputs": [
        {
          "output_type": "display_data",
          "data": {
            "text/plain": [
              "<Figure size 720x720 with 0 Axes>"
            ]
          },
          "metadata": {}
        },
        {
          "output_type": "display_data",
          "data": {
            "text/plain": [
              "<Figure size 432x288 with 1 Axes>"
            ],
            "image/png": "[encoded data removed]"
          },
          "metadata": {}
        }
      ]
    },
    {
      "cell_type": "code",
      "execution_count": 35,
      "metadata": {
        "id": "xkqwbO6BS-BD"
      },
      "outputs": [],
      "source": [
        "#Adding Sr.No. column to valder_df\n",
        "vadler_df = vadler_df.reset_index()\n",
        "vadler_df = vadler_df.rename(columns={\"index\":\"Sr.No.\"})\n",
        "vadler_df['Sr.No.'] = vadler_df.index + 0"
      ]
    },
    {
      "cell_type": "code",
      "execution_count": 36,
      "metadata": {
        "id": "6-B5OHktS-BE",
        "outputId": "4b168003-1a16-427f-e616-2db625a488c0",
        "colab": {
          "base_uri": "https://localhost:8080/",
          "height": 206
        }
      },
      "outputs": [
        {
          "output_type": "execute_result",
          "data": {
            "text/plain": [
              "   Sr.No.    neg    neu    pos  compound Sentiments  \\\n",
              "0       0  0.000  0.704  0.296    0.6369   Positive   \n",
              "1       1  0.000  0.704  0.296    0.6369   Positive   \n",
              "2       2  0.000  0.704  0.296    0.6369   Positive   \n",
              "3       3  0.215  0.621  0.164   -0.2263   Negative   \n",
              "4       4  0.000  1.000  0.000    0.0000    Neutral   \n",
              "\n",
              "                                              Tweets  \n",
              "0  [rt, sswowowo, mikemorris, candicebergenmp, co...  \n",
              "1  [rt, sswowowo, mikemorris, candicebergenmp, co...  \n",
              "2  [rt, sswowowo, mikemorris, candicebergenmp, co...  \n",
              "3  [rt, truckyoufrudeau, oh, good, lord, bullshit...  \n",
              "4  [rt, akatelyn, leaky, tank, menu, sarniaon, re...  "
            ],
            "text/html": [
              "\n",
              "  <div id=\"df-180c3c5b-fae5-4261-8f97-99eb0fdc3940\">\n",
              "    <div class=\"colab-df-container\">\n",
              "      <div>\n",
              "<style scoped>\n",
              "    .dataframe tbody tr th:only-of-type {\n",
              "        vertical-align: middle;\n",
              "    }\n",
              "\n",
              "    .dataframe tbody tr th {\n",
              "        vertical-align: top;\n",
              "    }\n",
              "\n",
              "    .dataframe thead th {\n",
              "        text-align: right;\n",
              "    }\n",
              "</style>\n",
              "<table border=\"1\" class=\"dataframe\">\n",
              "  <thead>\n",
              "    <tr style=\"text-align: right;\">\n",
              "      <th></th>\n",
              "      <th>Sr.No.</th>\n",
              "      <th>neg</th>\n",
              "      <th>neu</th>\n",
              "      <th>pos</th>\n",
              "      <th>compound</th>\n",
              "      <th>Sentiments</th>\n",
              "      <th>Tweets</th>\n",
              "    </tr>\n",
              "  </thead>\n",
              "  <tbody>\n",
              "    <tr>\n",
              "      <th>0</th>\n",
              "      <td>0</td>\n",
              "      <td>0.000</td>\n",
              "      <td>0.704</td>\n",
              "      <td>0.296</td>\n",
              "      <td>0.6369</td>\n",
              "      <td>Positive</td>\n",
              "      <td>[rt, sswowowo, mikemorris, candicebergenmp, co...</td>\n",
              "    </tr>\n",
              "    <tr>\n",
              "      <th>1</th>\n",
              "      <td>1</td>\n",
              "      <td>0.000</td>\n",
              "      <td>0.704</td>\n",
              "      <td>0.296</td>\n",
              "      <td>0.6369</td>\n",
              "      <td>Positive</td>\n",
              "      <td>[rt, sswowowo, mikemorris, candicebergenmp, co...</td>\n",
              "    </tr>\n",
              "    <tr>\n",
              "      <th>2</th>\n",
              "      <td>2</td>\n",
              "      <td>0.000</td>\n",
              "      <td>0.704</td>\n",
              "      <td>0.296</td>\n",
              "      <td>0.6369</td>\n",
              "      <td>Positive</td>\n",
              "      <td>[rt, sswowowo, mikemorris, candicebergenmp, co...</td>\n",
              "    </tr>\n",
              "    <tr>\n",
              "      <th>3</th>\n",
              "      <td>3</td>\n",
              "      <td>0.215</td>\n",
              "      <td>0.621</td>\n",
              "      <td>0.164</td>\n",
              "      <td>-0.2263</td>\n",
              "      <td>Negative</td>\n",
              "      <td>[rt, truckyoufrudeau, oh, good, lord, bullshit...</td>\n",
              "    </tr>\n",
              "    <tr>\n",
              "      <th>4</th>\n",
              "      <td>4</td>\n",
              "      <td>0.000</td>\n",
              "      <td>1.000</td>\n",
              "      <td>0.000</td>\n",
              "      <td>0.0000</td>\n",
              "      <td>Neutral</td>\n",
              "      <td>[rt, akatelyn, leaky, tank, menu, sarniaon, re...</td>\n",
              "    </tr>\n",
              "  </tbody>\n",
              "</table>\n",
              "</div>\n",
              "      <button class=\"colab-df-convert\" onclick=\"convertToInteractive('df-180c3c5b-fae5-4261-8f97-99eb0fdc3940')\"\n",
              "              title=\"Convert this dataframe to an interactive table.\"\n",
              "              style=\"display:none;\">\n",
              "        \n",
              "  <svg xmlns=\"http://www.w3.org/2000/svg\" height=\"24px\"viewBox=\"0 0 24 24\"\n",
              "       width=\"24px\">\n",
              "    <path d=\"M0 0h24v24H0V0z\" fill=\"none\"/>\n",
              "    <path d=\"M18.56 5.44l.94 2.06.94-2.06 2.06-.94-2.06-.94-.94-2.06-.94 2.06-2.06.94zm-11 1L8.5 8.5l.94-2.06 2.06-.94-2.06-.94L8.5 2.5l-.94 2.06-2.06.94zm10 10l.94 2.06.94-2.06 2.06-.94-2.06-.94-.94-2.06-.94 2.06-2.06.94z\"/><path d=\"M17.41 7.96l-1.37-1.37c-.4-.4-.92-.59-1.43-.59-.52 0-1.04.2-1.43.59L10.3 9.45l-7.72 7.72c-.78.78-.78 2.05 0 2.83L4 21.41c.39.39.9.59 1.41.59.51 0 1.02-.2 1.41-.59l7.78-7.78 2.81-2.81c.8-.78.8-2.07 0-2.86zM5.41 20L4 18.59l7.72-7.72 1.47 1.35L5.41 20z\"/>\n",
              "  </svg>\n",
              "      </button>\n",
              "      \n",
              "  <style>\n",
              "    .colab-df-container {\n",
              "      display:flex;\n",
              "      flex-wrap:wrap;\n",
              "      gap: 12px;\n",
              "    }\n",
              "\n",
              "    .colab-df-convert {\n",
              "      background-color: #E8F0FE;\n",
              "      border: none;\n",
              "      border-radius: 50%;\n",
              "      cursor: pointer;\n",
              "      display: none;\n",
              "      fill: #1967D2;\n",
              "      height: 32px;\n",
              "      padding: 0 0 0 0;\n",
              "      width: 32px;\n",
              "    }\n",
              "\n",
              "    .colab-df-convert:hover {\n",
              "      background-color: #E2EBFA;\n",
              "      box-shadow: 0px 1px 2px rgba(60, 64, 67, 0.3), 0px 1px 3px 1px rgba(60, 64, 67, 0.15);\n",
              "      fill: #174EA6;\n",
              "    }\n",
              "\n",
              "    [theme=dark] .colab-df-convert {\n",
              "      background-color: #3B4455;\n",
              "      fill: #D2E3FC;\n",
              "    }\n",
              "\n",
              "    [theme=dark] .colab-df-convert:hover {\n",
              "      background-color: #434B5C;\n",
              "      box-shadow: 0px 1px 3px 1px rgba(0, 0, 0, 0.15);\n",
              "      filter: drop-shadow(0px 1px 2px rgba(0, 0, 0, 0.3));\n",
              "      fill: #FFFFFF;\n",
              "    }\n",
              "  </style>\n",
              "\n",
              "      <script>\n",
              "        const buttonEl =\n",
              "          document.querySelector('#df-180c3c5b-fae5-4261-8f97-99eb0fdc3940 button.colab-df-convert');\n",
              "        buttonEl.style.display =\n",
              "          google.colab.kernel.accessAllowed ? 'block' : 'none';\n",
              "\n",
              "        async function convertToInteractive(key) {\n",
              "          const element = document.querySelector('#df-180c3c5b-fae5-4261-8f97-99eb0fdc3940');\n",
              "          const dataTable =\n",
              "            await google.colab.kernel.invokeFunction('convertToInteractive',\n",
              "                                                     [key], {});\n",
              "          if (!dataTable) return;\n",
              "\n",
              "          const docLinkHtml = 'Like what you see? Visit the ' +\n",
              "            '<a target=\"_blank\" href=https://colab.research.google.com/notebooks/data_table.ipynb>data table notebook</a>'\n",
              "            + ' to learn more about interactive tables.';\n",
              "          element.innerHTML = '';\n",
              "          dataTable['output_type'] = 'display_data';\n",
              "          await google.colab.output.renderOutput(dataTable, element);\n",
              "          const docLink = document.createElement('div');\n",
              "          docLink.innerHTML = docLinkHtml;\n",
              "          element.appendChild(docLink);\n",
              "        }\n",
              "      </script>\n",
              "    </div>\n",
              "  </div>\n",
              "  "
            ]
          },
          "metadata": {},
          "execution_count": 36
        }
      ],
      "source": [
        "vadler_df.head()"
      ]
    },
    {
      "cell_type": "code",
      "execution_count": 37,
      "metadata": {
        "id": "q_hteotqS-BE"
      },
      "outputs": [],
      "source": [
        "df_connections = pd.concat([df_connections, vadler_df], axis=1)"
      ]
    },
    {
      "cell_type": "code",
      "execution_count": 38,
      "metadata": {
        "id": "WNIH0ZV-S-BE",
        "outputId": "81193fcb-9e4e-495d-d486-de00ec39ba18",
        "colab": {
          "base_uri": "https://localhost:8080/",
          "height": 922
        }
      },
      "outputs": [
        {
          "output_type": "execute_result",
          "data": {
            "text/plain": [
              "       author.username           target  \\\n",
              "0           QwertyDee_         SsWowowo   \n",
              "1           QwertyDee_      1MikeMorris   \n",
              "2           QwertyDee_  CandiceBergenMP   \n",
              "3      Madrussianlives  TruckYouFrudeau   \n",
              "4            mrosssila       akatelyn19   \n",
              "...                ...              ...   \n",
              "55754    Stand_Records   ChiefsofMayhem   \n",
              "55755    Stand_Records    BreitbartNews   \n",
              "55756    Stand_Records        KillWillC   \n",
              "55757    Stand_Records   RealBrysonGray   \n",
              "55758    Stand_Records   RealBrysonGray   \n",
              "\n",
              "                                                    text     author_id  \\\n",
              "0      rt sswowowo 1mikemorris candicebergenmp convoy...  2.091772e+07   \n",
              "1      rt sswowowo 1mikemorris candicebergenmp convoy...  2.091772e+07   \n",
              "2      rt sswowowo 1mikemorris candicebergenmp convoy...  2.091772e+07   \n",
              "3      rt truckyoufrudeau oh good lord bullshit knows...  1.495463e+18   \n",
              "4      rt akatelyn19 leaky tank menu sarniaon restaur...  2.536917e+09   \n",
              "...                                                  ...           ...   \n",
              "55754  chiefsofmayhem breitbartnews check killwillc r...  1.471235e+18   \n",
              "55755  chiefsofmayhem breitbartnews check killwillc r...  1.471235e+18   \n",
              "55756  chiefsofmayhem breitbartnews check killwillc r...  1.471235e+18   \n",
              "55757  chiefsofmayhem breitbartnews check killwillc r...  1.471235e+18   \n",
              "55758  chiefsofmayhem breitbartnews check killwillc r...  1.471235e+18   \n",
              "\n",
              "                 id in_reply_to_user_id  referenced_tweets.tweet.author.id  \\\n",
              "0      1.498142e+18                 NaN                       7.133665e+17   \n",
              "1      1.498142e+18                 NaN                       7.133665e+17   \n",
              "2      1.498142e+18                 NaN                       7.133665e+17   \n",
              "3      1.498142e+18                 NaN                       1.492918e+18   \n",
              "4      1.498142e+18                 NaN                       2.054286e+08   \n",
              "...             ...                 ...                                ...   \n",
              "55754  1.495189e+18          2792704009                       2.792704e+09   \n",
              "55755  1.495189e+18          2792704009                       2.792704e+09   \n",
              "55756  1.495189e+18          2792704009                       2.792704e+09   \n",
              "55757  1.495189e+18          2792704009                       2.792704e+09   \n",
              "55758  1.495189e+18          2792704009                       2.792704e+09   \n",
              "\n",
              "      referenced_tweets.tweet.author.username  \\\n",
              "0                                    SsWowowo   \n",
              "1                                    SsWowowo   \n",
              "2                                    SsWowowo   \n",
              "3                             TruckYouFrudeau   \n",
              "4                                  akatelyn19   \n",
              "...                                       ...   \n",
              "55754                          ChiefsofMayhem   \n",
              "55755                          ChiefsofMayhem   \n",
              "55756                          ChiefsofMayhem   \n",
              "55757                          ChiefsofMayhem   \n",
              "55758                          ChiefsofMayhem   \n",
              "\n",
              "      referenced_tweets.tweet.author_id referenced_tweets.tweet.id  ...  \\\n",
              "0                  713366495527481344.0      1498072291153874944.0  ...   \n",
              "1                  713366495527481344.0      1498072291153874944.0  ...   \n",
              "2                  713366495527481344.0      1498072291153874944.0  ...   \n",
              "3                 1492917845902118912.0      1498125519451299840.0  ...   \n",
              "4                           205428649.0      1497250155174797312.0  ...   \n",
              "...                                 ...                        ...  ...   \n",
              "55754                        2792704009        1495184585608544259  ...   \n",
              "55755                        2792704009        1495184585608544259  ...   \n",
              "55756                        2792704009        1495184585608544259  ...   \n",
              "55757                        2792704009        1495184585608544259  ...   \n",
              "55758                        2792704009        1495184585608544259  ...   \n",
              "\n",
              "      author.public_metrics.following_count author.public_metrics.tweet_count  \\\n",
              "0                                    5536.0                          221894.0   \n",
              "1                                    5536.0                          221894.0   \n",
              "2                                    5536.0                          221894.0   \n",
              "3                                     587.0                           14122.0   \n",
              "4                                     183.0                            6542.0   \n",
              "...                                     ...                               ...   \n",
              "55754                                 143.0                              27.0   \n",
              "55755                                 143.0                              27.0   \n",
              "55756                                 143.0                              27.0   \n",
              "55757                                 143.0                              27.0   \n",
              "55758                                 143.0                              27.0   \n",
              "\n",
              "      referenced_tweets.id Sr.No.    neg    neu    pos  compound  Sentiments  \\\n",
              "0             1.498072e+18      0  0.000  0.704  0.296    0.6369    Positive   \n",
              "1             1.498072e+18      1  0.000  0.704  0.296    0.6369    Positive   \n",
              "2             1.498072e+18      2  0.000  0.704  0.296    0.6369    Positive   \n",
              "3             1.498126e+18      3  0.215  0.621  0.164   -0.2263    Negative   \n",
              "4             1.497250e+18      4  0.000  1.000  0.000    0.0000     Neutral   \n",
              "...                    ...    ...    ...    ...    ...       ...         ...   \n",
              "55754         1.495185e+18  55754  0.000  0.781  0.219    0.6369    Positive   \n",
              "55755         1.495185e+18  55755  0.000  0.781  0.219    0.6369    Positive   \n",
              "55756         1.495185e+18  55756  0.000  0.781  0.219    0.6369    Positive   \n",
              "55757         1.495185e+18  55757  0.000  0.781  0.219    0.6369    Positive   \n",
              "55758         1.495185e+18  55758  0.000  0.781  0.219    0.6369    Positive   \n",
              "\n",
              "                                                  Tweets  \n",
              "0      [rt, sswowowo, mikemorris, candicebergenmp, co...  \n",
              "1      [rt, sswowowo, mikemorris, candicebergenmp, co...  \n",
              "2      [rt, sswowowo, mikemorris, candicebergenmp, co...  \n",
              "3      [rt, truckyoufrudeau, oh, good, lord, bullshit...  \n",
              "4      [rt, akatelyn, leaky, tank, menu, sarniaon, re...  \n",
              "...                                                  ...  \n",
              "55754  [chiefsofmayhem, breitbartnews, check, killwil...  \n",
              "55755  [chiefsofmayhem, breitbartnews, check, killwil...  \n",
              "55756  [chiefsofmayhem, breitbartnews, check, killwil...  \n",
              "55757  [chiefsofmayhem, breitbartnews, check, killwil...  \n",
              "55758  [chiefsofmayhem, breitbartnews, check, killwil...  \n",
              "\n",
              "[55759 rows x 26 columns]"
            ],
            "text/html": [
              "\n",
              "  <div id=\"df-b111b8a7-187a-4509-8e83-94870e7f9ec5\">\n",
              "    <div class=\"colab-df-container\">\n",
              "      <div>\n",
              "<style scoped>\n",
              "    .dataframe tbody tr th:only-of-type {\n",
              "        vertical-align: middle;\n",
              "    }\n",
              "\n",
              "    .dataframe tbody tr th {\n",
              "        vertical-align: top;\n",
              "    }\n",
              "\n",
              "    .dataframe thead th {\n",
              "        text-align: right;\n",
              "    }\n",
              "</style>\n",
              "<table border=\"1\" class=\"dataframe\">\n",
              "  <thead>\n",
              "    <tr style=\"text-align: right;\">\n",
              "      <th></th>\n",
              "      <th>author.username</th>\n",
              "      <th>target</th>\n",
              "      <th>text</th>\n",
              "      <th>author_id</th>\n",
              "      <th>id</th>\n",
              "      <th>in_reply_to_user_id</th>\n",
              "      <th>referenced_tweets.tweet.author.id</th>\n",
              "      <th>referenced_tweets.tweet.author.username</th>\n",
              "      <th>referenced_tweets.tweet.author_id</th>\n",
              "      <th>referenced_tweets.tweet.id</th>\n",
              "      <th>...</th>\n",
              "      <th>author.public_metrics.following_count</th>\n",
              "      <th>author.public_metrics.tweet_count</th>\n",
              "      <th>referenced_tweets.id</th>\n",
              "      <th>Sr.No.</th>\n",
              "      <th>neg</th>\n",
              "      <th>neu</th>\n",
              "      <th>pos</th>\n",
              "      <th>compound</th>\n",
              "      <th>Sentiments</th>\n",
              "      <th>Tweets</th>\n",
              "    </tr>\n",
              "  </thead>\n",
              "  <tbody>\n",
              "    <tr>\n",
              "      <th>0</th>\n",
              "      <td>QwertyDee_</td>\n",
              "      <td>SsWowowo</td>\n",
              "      <td>rt sswowowo 1mikemorris candicebergenmp convoy...</td>\n",
              "      <td>2.091772e+07</td>\n",
              "      <td>1.498142e+18</td>\n",
              "      <td>NaN</td>\n",
              "      <td>7.133665e+17</td>\n",
              "      <td>SsWowowo</td>\n",
              "      <td>713366495527481344.0</td>\n",
              "      <td>1498072291153874944.0</td>\n",
              "      <td>...</td>\n",
              "      <td>5536.0</td>\n",
              "      <td>221894.0</td>\n",
              "      <td>1.498072e+18</td>\n",
              "      <td>0</td>\n",
              "      <td>0.000</td>\n",
              "      <td>0.704</td>\n",
              "      <td>0.296</td>\n",
              "      <td>0.6369</td>\n",
              "      <td>Positive</td>\n",
              "      <td>[rt, sswowowo, mikemorris, candicebergenmp, co...</td>\n",
              "    </tr>\n",
              "    <tr>\n",
              "      <th>1</th>\n",
              "      <td>QwertyDee_</td>\n",
              "      <td>1MikeMorris</td>\n",
              "      <td>rt sswowowo 1mikemorris candicebergenmp convoy...</td>\n",
              "      <td>2.091772e+07</td>\n",
              "      <td>1.498142e+18</td>\n",
              "      <td>NaN</td>\n",
              "      <td>7.133665e+17</td>\n",
              "      <td>SsWowowo</td>\n",
              "      <td>713366495527481344.0</td>\n",
              "      <td>1498072291153874944.0</td>\n",
              "      <td>...</td>\n",
              "      <td>5536.0</td>\n",
              "      <td>221894.0</td>\n",
              "      <td>1.498072e+18</td>\n",
              "      <td>1</td>\n",
              "      <td>0.000</td>\n",
              "      <td>0.704</td>\n",
              "      <td>0.296</td>\n",
              "      <td>0.6369</td>\n",
              "      <td>Positive</td>\n",
              "      <td>[rt, sswowowo, mikemorris, candicebergenmp, co...</td>\n",
              "    </tr>\n",
              "    <tr>\n",
              "      <th>2</th>\n",
              "      <td>QwertyDee_</td>\n",
              "      <td>CandiceBergenMP</td>\n",
              "      <td>rt sswowowo 1mikemorris candicebergenmp convoy...</td>\n",
              "      <td>2.091772e+07</td>\n",
              "      <td>1.498142e+18</td>\n",
              "      <td>NaN</td>\n",
              "      <td>7.133665e+17</td>\n",
              "      <td>SsWowowo</td>\n",
              "      <td>713366495527481344.0</td>\n",
              "      <td>1498072291153874944.0</td>\n",
              "      <td>...</td>\n",
              "      <td>5536.0</td>\n",
              "      <td>221894.0</td>\n",
              "      <td>1.498072e+18</td>\n",
              "      <td>2</td>\n",
              "      <td>0.000</td>\n",
              "      <td>0.704</td>\n",
              "      <td>0.296</td>\n",
              "      <td>0.6369</td>\n",
              "      <td>Positive</td>\n",
              "      <td>[rt, sswowowo, mikemorris, candicebergenmp, co...</td>\n",
              "    </tr>\n",
              "    <tr>\n",
              "      <th>3</th>\n",
              "      <td>Madrussianlives</td>\n",
              "      <td>TruckYouFrudeau</td>\n",
              "      <td>rt truckyoufrudeau oh good lord bullshit knows...</td>\n",
              "      <td>1.495463e+18</td>\n",
              "      <td>1.498142e+18</td>\n",
              "      <td>NaN</td>\n",
              "      <td>1.492918e+18</td>\n",
              "      <td>TruckYouFrudeau</td>\n",
              "      <td>1492917845902118912.0</td>\n",
              "      <td>1498125519451299840.0</td>\n",
              "      <td>...</td>\n",
              "      <td>587.0</td>\n",
              "      <td>14122.0</td>\n",
              "      <td>1.498126e+18</td>\n",
              "      <td>3</td>\n",
              "      <td>0.215</td>\n",
              "      <td>0.621</td>\n",
              "      <td>0.164</td>\n",
              "      <td>-0.2263</td>\n",
              "      <td>Negative</td>\n",
              "      <td>[rt, truckyoufrudeau, oh, good, lord, bullshit...</td>\n",
              "    </tr>\n",
              "    <tr>\n",
              "      <th>4</th>\n",
              "      <td>mrosssila</td>\n",
              "      <td>akatelyn19</td>\n",
              "      <td>rt akatelyn19 leaky tank menu sarniaon restaur...</td>\n",
              "      <td>2.536917e+09</td>\n",
              "      <td>1.498142e+18</td>\n",
              "      <td>NaN</td>\n",
              "      <td>2.054286e+08</td>\n",
              "      <td>akatelyn19</td>\n",
              "      <td>205428649.0</td>\n",
              "      <td>1497250155174797312.0</td>\n",
              "      <td>...</td>\n",
              "      <td>183.0</td>\n",
              "      <td>6542.0</td>\n",
              "      <td>1.497250e+18</td>\n",
              "      <td>4</td>\n",
              "      <td>0.000</td>\n",
              "      <td>1.000</td>\n",
              "      <td>0.000</td>\n",
              "      <td>0.0000</td>\n",
              "      <td>Neutral</td>\n",
              "      <td>[rt, akatelyn, leaky, tank, menu, sarniaon, re...</td>\n",
              "    </tr>\n",
              "    <tr>\n",
              "      <th>...</th>\n",
              "      <td>...</td>\n",
              "      <td>...</td>\n",
              "      <td>...</td>\n",
              "      <td>...</td>\n",
              "      <td>...</td>\n",
              "      <td>...</td>\n",
              "      <td>...</td>\n",
              "      <td>...</td>\n",
              "      <td>...</td>\n",
              "      <td>...</td>\n",
              "      <td>...</td>\n",
              "      <td>...</td>\n",
              "      <td>...</td>\n",
              "      <td>...</td>\n",
              "      <td>...</td>\n",
              "      <td>...</td>\n",
              "      <td>...</td>\n",
              "      <td>...</td>\n",
              "      <td>...</td>\n",
              "      <td>...</td>\n",
              "      <td>...</td>\n",
              "    </tr>\n",
              "    <tr>\n",
              "      <th>55754</th>\n",
              "      <td>Stand_Records</td>\n",
              "      <td>ChiefsofMayhem</td>\n",
              "      <td>chiefsofmayhem breitbartnews check killwillc r...</td>\n",
              "      <td>1.471235e+18</td>\n",
              "      <td>1.495189e+18</td>\n",
              "      <td>2792704009</td>\n",
              "      <td>2.792704e+09</td>\n",
              "      <td>ChiefsofMayhem</td>\n",
              "      <td>2792704009</td>\n",
              "      <td>1495184585608544259</td>\n",
              "      <td>...</td>\n",
              "      <td>143.0</td>\n",
              "      <td>27.0</td>\n",
              "      <td>1.495185e+18</td>\n",
              "      <td>55754</td>\n",
              "      <td>0.000</td>\n",
              "      <td>0.781</td>\n",
              "      <td>0.219</td>\n",
              "      <td>0.6369</td>\n",
              "      <td>Positive</td>\n",
              "      <td>[chiefsofmayhem, breitbartnews, check, killwil...</td>\n",
              "    </tr>\n",
              "    <tr>\n",
              "      <th>55755</th>\n",
              "      <td>Stand_Records</td>\n",
              "      <td>BreitbartNews</td>\n",
              "      <td>chiefsofmayhem breitbartnews check killwillc r...</td>\n",
              "      <td>1.471235e+18</td>\n",
              "      <td>1.495189e+18</td>\n",
              "      <td>2792704009</td>\n",
              "      <td>2.792704e+09</td>\n",
              "      <td>ChiefsofMayhem</td>\n",
              "      <td>2792704009</td>\n",
              "      <td>1495184585608544259</td>\n",
              "      <td>...</td>\n",
              "      <td>143.0</td>\n",
              "      <td>27.0</td>\n",
              "      <td>1.495185e+18</td>\n",
              "      <td>55755</td>\n",
              "      <td>0.000</td>\n",
              "      <td>0.781</td>\n",
              "      <td>0.219</td>\n",
              "      <td>0.6369</td>\n",
              "      <td>Positive</td>\n",
              "      <td>[chiefsofmayhem, breitbartnews, check, killwil...</td>\n",
              "    </tr>\n",
              "    <tr>\n",
              "      <th>55756</th>\n",
              "      <td>Stand_Records</td>\n",
              "      <td>KillWillC</td>\n",
              "      <td>chiefsofmayhem breitbartnews check killwillc r...</td>\n",
              "      <td>1.471235e+18</td>\n",
              "      <td>1.495189e+18</td>\n",
              "      <td>2792704009</td>\n",
              "      <td>2.792704e+09</td>\n",
              "      <td>ChiefsofMayhem</td>\n",
              "      <td>2792704009</td>\n",
              "      <td>1495184585608544259</td>\n",
              "      <td>...</td>\n",
              "      <td>143.0</td>\n",
              "      <td>27.0</td>\n",
              "      <td>1.495185e+18</td>\n",
              "      <td>55756</td>\n",
              "      <td>0.000</td>\n",
              "      <td>0.781</td>\n",
              "      <td>0.219</td>\n",
              "      <td>0.6369</td>\n",
              "      <td>Positive</td>\n",
              "      <td>[chiefsofmayhem, breitbartnews, check, killwil...</td>\n",
              "    </tr>\n",
              "    <tr>\n",
              "      <th>55757</th>\n",
              "      <td>Stand_Records</td>\n",
              "      <td>RealBrysonGray</td>\n",
              "      <td>chiefsofmayhem breitbartnews check killwillc r...</td>\n",
              "      <td>1.471235e+18</td>\n",
              "      <td>1.495189e+18</td>\n",
              "      <td>2792704009</td>\n",
              "      <td>2.792704e+09</td>\n",
              "      <td>ChiefsofMayhem</td>\n",
              "      <td>2792704009</td>\n",
              "      <td>1495184585608544259</td>\n",
              "      <td>...</td>\n",
              "      <td>143.0</td>\n",
              "      <td>27.0</td>\n",
              "      <td>1.495185e+18</td>\n",
              "      <td>55757</td>\n",
              "      <td>0.000</td>\n",
              "      <td>0.781</td>\n",
              "      <td>0.219</td>\n",
              "      <td>0.6369</td>\n",
              "      <td>Positive</td>\n",
              "      <td>[chiefsofmayhem, breitbartnews, check, killwil...</td>\n",
              "    </tr>\n",
              "    <tr>\n",
              "      <th>55758</th>\n",
              "      <td>Stand_Records</td>\n",
              "      <td>RealBrysonGray</td>\n",
              "      <td>chiefsofmayhem breitbartnews check killwillc r...</td>\n",
              "      <td>1.471235e+18</td>\n",
              "      <td>1.495189e+18</td>\n",
              "      <td>2792704009</td>\n",
              "      <td>2.792704e+09</td>\n",
              "      <td>ChiefsofMayhem</td>\n",
              "      <td>2792704009</td>\n",
              "      <td>1495184585608544259</td>\n",
              "      <td>...</td>\n",
              "      <td>143.0</td>\n",
              "      <td>27.0</td>\n",
              "      <td>1.495185e+18</td>\n",
              "      <td>55758</td>\n",
              "      <td>0.000</td>\n",
              "      <td>0.781</td>\n",
              "      <td>0.219</td>\n",
              "      <td>0.6369</td>\n",
              "      <td>Positive</td>\n",
              "      <td>[chiefsofmayhem, breitbartnews, check, killwil...</td>\n",
              "    </tr>\n",
              "  </tbody>\n",
              "</table>\n",
              "<p>55759 rows × 26 columns</p>\n",
              "</div>\n",
              "      <button class=\"colab-df-convert\" onclick=\"convertToInteractive('df-b111b8a7-187a-4509-8e83-94870e7f9ec5')\"\n",
              "              title=\"Convert this dataframe to an interactive table.\"\n",
              "              style=\"display:none;\">\n",
              "        \n",
              "  <svg xmlns=\"http://www.w3.org/2000/svg\" height=\"24px\"viewBox=\"0 0 24 24\"\n",
              "       width=\"24px\">\n",
              "    <path d=\"M0 0h24v24H0V0z\" fill=\"none\"/>\n",
              "    <path d=\"M18.56 5.44l.94 2.06.94-2.06 2.06-.94-2.06-.94-.94-2.06-.94 2.06-2.06.94zm-11 1L8.5 8.5l.94-2.06 2.06-.94-2.06-.94L8.5 2.5l-.94 2.06-2.06.94zm10 10l.94 2.06.94-2.06 2.06-.94-2.06-.94-.94-2.06-.94 2.06-2.06.94z\"/><path d=\"M17.41 7.96l-1.37-1.37c-.4-.4-.92-.59-1.43-.59-.52 0-1.04.2-1.43.59L10.3 9.45l-7.72 7.72c-.78.78-.78 2.05 0 2.83L4 21.41c.39.39.9.59 1.41.59.51 0 1.02-.2 1.41-.59l7.78-7.78 2.81-2.81c.8-.78.8-2.07 0-2.86zM5.41 20L4 18.59l7.72-7.72 1.47 1.35L5.41 20z\"/>\n",
              "  </svg>\n",
              "      </button>\n",
              "      \n",
              "  <style>\n",
              "    .colab-df-container {\n",
              "      display:flex;\n",
              "      flex-wrap:wrap;\n",
              "      gap: 12px;\n",
              "    }\n",
              "\n",
              "    .colab-df-convert {\n",
              "      background-color: #E8F0FE;\n",
              "      border: none;\n",
              "      border-radius: 50%;\n",
              "      cursor: pointer;\n",
              "      display: none;\n",
              "      fill: #1967D2;\n",
              "      height: 32px;\n",
              "      padding: 0 0 0 0;\n",
              "      width: 32px;\n",
              "    }\n",
              "\n",
              "    .colab-df-convert:hover {\n",
              "      background-color: #E2EBFA;\n",
              "      box-shadow: 0px 1px 2px rgba(60, 64, 67, 0.3), 0px 1px 3px 1px rgba(60, 64, 67, 0.15);\n",
              "      fill: #174EA6;\n",
              "    }\n",
              "\n",
              "    [theme=dark] .colab-df-convert {\n",
              "      background-color: #3B4455;\n",
              "      fill: #D2E3FC;\n",
              "    }\n",
              "\n",
              "    [theme=dark] .colab-df-convert:hover {\n",
              "      background-color: #434B5C;\n",
              "      box-shadow: 0px 1px 3px 1px rgba(0, 0, 0, 0.15);\n",
              "      filter: drop-shadow(0px 1px 2px rgba(0, 0, 0, 0.3));\n",
              "      fill: #FFFFFF;\n",
              "    }\n",
              "  </style>\n",
              "\n",
              "      <script>\n",
              "        const buttonEl =\n",
              "          document.querySelector('#df-b111b8a7-187a-4509-8e83-94870e7f9ec5 button.colab-df-convert');\n",
              "        buttonEl.style.display =\n",
              "          google.colab.kernel.accessAllowed ? 'block' : 'none';\n",
              "\n",
              "        async function convertToInteractive(key) {\n",
              "          const element = document.querySelector('#df-b111b8a7-187a-4509-8e83-94870e7f9ec5');\n",
              "          const dataTable =\n",
              "            await google.colab.kernel.invokeFunction('convertToInteractive',\n",
              "                                                     [key], {});\n",
              "          if (!dataTable) return;\n",
              "\n",
              "          const docLinkHtml = 'Like what you see? Visit the ' +\n",
              "            '<a target=\"_blank\" href=https://colab.research.google.com/notebooks/data_table.ipynb>data table notebook</a>'\n",
              "            + ' to learn more about interactive tables.';\n",
              "          element.innerHTML = '';\n",
              "          dataTable['output_type'] = 'display_data';\n",
              "          await google.colab.output.renderOutput(dataTable, element);\n",
              "          const docLink = document.createElement('div');\n",
              "          docLink.innerHTML = docLinkHtml;\n",
              "          element.appendChild(docLink);\n",
              "        }\n",
              "      </script>\n",
              "    </div>\n",
              "  </div>\n",
              "  "
            ]
          },
          "metadata": {},
          "execution_count": 38
        }
      ],
      "source": [
        "df_connections"
      ]
    },
    {
      "cell_type": "markdown",
      "metadata": {
        "id": "da-Gdz3US-BF"
      },
      "source": [
        "# Word2Vec Modeling"
      ]
    },
    {
      "cell_type": "code",
      "source": [
        "def preprocess(text):\n",
        "    text_input = re.sub('[^a-zA-Z1-9]+', ' ', str(text))\n",
        "    output = re.sub(r'\\d+', '',text_input)\n",
        "    return output.lower().strip()\n",
        "\n",
        "df_connections['text'] = df_connections['text'].apply(preprocess)\n",
        "#df_connections.head()  # Uncomment if you want to see the preprocessed text"
      ],
      "metadata": {
        "id": "iySZ2De9-s_4"
      },
      "execution_count": 42,
      "outputs": []
    },
    {
      "cell_type": "code",
      "source": [
        "from nltk.corpus import stopwords\n",
        "\n",
        "stop = set(stopwords.words(\"english\"))\n",
        "\n",
        "def remove_stopwords(text):\n",
        "    filtered_words = [word.lower() for word in text.split() if word.lower() not in stop]\n",
        "    return \" \".join(filtered_words)\n",
        "\n",
        "df_connections['text'] = df_connections['text'].apply(remove_stopwords)\n"
      ],
      "metadata": {
        "id": "Oym2diCn-_xG"
      },
      "execution_count": 45,
      "outputs": []
    },
    {
      "cell_type": "code",
      "execution_count": 44,
      "metadata": {
        "id": "pex5dpqAS-BG",
        "colab": {
          "base_uri": "https://localhost:8080/",
          "height": 235
        },
        "outputId": "ccaeb6be-3499-4f00-ac01-a2bec86c8404"
      },
      "outputs": [
        {
          "output_type": "error",
          "ename": "AttributeError",
          "evalue": "ignored",
          "traceback": [
            "\u001b[0;31m---------------------------------------------------------------------------\u001b[0m",
            "\u001b[0;31mAttributeError\u001b[0m                            Traceback (most recent call last)",
            "\u001b[0;32m<ipython-input-44-f27b810f1bb2>\u001b[0m in \u001b[0;36m<module>\u001b[0;34m\u001b[0m\n\u001b[0;32m----> 1\u001b[0;31m \u001b[0mstop\u001b[0m \u001b[0;34m=\u001b[0m \u001b[0mset\u001b[0m\u001b[0;34m(\u001b[0m\u001b[0mstopwords\u001b[0m\u001b[0;34m.\u001b[0m\u001b[0mwords\u001b[0m\u001b[0;34m(\u001b[0m\u001b[0;34m\"english\"\u001b[0m\u001b[0;34m)\u001b[0m\u001b[0;34m)\u001b[0m\u001b[0;34m\u001b[0m\u001b[0;34m\u001b[0m\u001b[0m\n\u001b[0m\u001b[1;32m      2\u001b[0m \u001b[0;34m\u001b[0m\u001b[0m\n\u001b[1;32m      3\u001b[0m \u001b[0;32mdef\u001b[0m \u001b[0mremove_stopwords\u001b[0m\u001b[0;34m(\u001b[0m\u001b[0mtext\u001b[0m\u001b[0;34m)\u001b[0m\u001b[0;34m:\u001b[0m\u001b[0;34m\u001b[0m\u001b[0;34m\u001b[0m\u001b[0m\n\u001b[1;32m      4\u001b[0m     \u001b[0mfiltered_words\u001b[0m \u001b[0;34m=\u001b[0m \u001b[0;34m[\u001b[0m\u001b[0mword\u001b[0m\u001b[0;34m.\u001b[0m\u001b[0mlower\u001b[0m\u001b[0;34m(\u001b[0m\u001b[0;34m)\u001b[0m \u001b[0;32mfor\u001b[0m \u001b[0mword\u001b[0m \u001b[0;32min\u001b[0m \u001b[0mtext\u001b[0m\u001b[0;34m.\u001b[0m\u001b[0msplit\u001b[0m\u001b[0;34m(\u001b[0m\u001b[0;34m)\u001b[0m \u001b[0;32mif\u001b[0m \u001b[0mword\u001b[0m\u001b[0;34m.\u001b[0m\u001b[0mlower\u001b[0m\u001b[0;34m(\u001b[0m\u001b[0;34m)\u001b[0m \u001b[0;32mnot\u001b[0m \u001b[0;32min\u001b[0m \u001b[0mstop\u001b[0m\u001b[0;34m]\u001b[0m\u001b[0;34m\u001b[0m\u001b[0;34m\u001b[0m\u001b[0m\n\u001b[1;32m      5\u001b[0m     \u001b[0;32mreturn\u001b[0m \u001b[0;34m\" \"\u001b[0m\u001b[0;34m.\u001b[0m\u001b[0mjoin\u001b[0m\u001b[0;34m(\u001b[0m\u001b[0mfiltered_words\u001b[0m\u001b[0;34m)\u001b[0m\u001b[0;34m\u001b[0m\u001b[0;34m\u001b[0m\u001b[0m\n",
            "\u001b[0;31mAttributeError\u001b[0m: 'list' object has no attribute 'words'"
          ]
        }
      ],
      "source": [
        "'''\n",
        "stop = set(stopwords.words(\"english\"))\n",
        "\n",
        "def remove_stopwords(text):\n",
        "    filtered_words = [word.lower() for word in text.split() if word.lower() not in stop]\n",
        "    return \" \".join(filtered_words)\n",
        "\n",
        "df_connections['text'] = df_connections.text.map(remove_stopwords)\n",
        "#df_connections\n",
        "\n",
        "'''"
      ]
    },
    {
      "cell_type": "code",
      "execution_count": 47,
      "metadata": {
        "id": "v0UYU_tVS-BG"
      },
      "outputs": [],
      "source": [
        "def build_corpus(df):\n",
        "    corpus = []\n",
        "    for sentence in df.iteritems():\n",
        "        word_list = sentence[1].split(\" \")\n",
        "        corpus.append(word_list)\n",
        "    return corpus\n",
        "\n",
        "corpus = build_corpus(df_connections['text'])"
      ]
    },
    {
      "cell_type": "code",
      "execution_count": 48,
      "metadata": {
        "id": "UntZLZVIS-BH"
      },
      "outputs": [],
      "source": [
        "model = Word2Vec(corpus, size=100, min_count=1)"
      ]
    },
    {
      "cell_type": "code",
      "execution_count": 49,
      "metadata": {
        "id": "VJH1OE9fS-BH"
      },
      "outputs": [],
      "source": [
        "model.wv.save_word2vec_format('word2vec_embedding.bin', binary=True)"
      ]
    },
    {
      "cell_type": "markdown",
      "metadata": {
        "id": "HFCu4Y-nS-BH"
      },
      "source": [
        "Word2Vec Clustering"
      ]
    },
    {
      "cell_type": "code",
      "execution_count": 50,
      "metadata": {
        "id": "0xhPDThQS-BI"
      },
      "outputs": [],
      "source": [
        "abst_list = df_connections['text'].values.astype('U')"
      ]
    },
    {
      "cell_type": "code",
      "execution_count": 51,
      "metadata": {
        "id": "Q4zvSZz8S-BI"
      },
      "outputs": [],
      "source": [
        "#preprocessing for pubmed data\n",
        "nopunc = str.maketrans('', '', string.punctuation)\n",
        "lem = WordNetLemmatizer()\n",
        "custom_stopwords = set(stopwords.words(\"english\")+ [])\n",
        "custom_stopwords = [lem.lemmatize(word) for word in custom_stopwords]"
      ]
    },
    {
      "cell_type": "code",
      "execution_count": 52,
      "metadata": {
        "id": "ZcdzgfJvS-BJ"
      },
      "outputs": [],
      "source": [
        "def preprocess(abst_list):\n",
        "    abstracts =[]\n",
        "    for line in abst_list:\n",
        "        line.replace(\"\\n\", \"\")\n",
        "        line = line.lower()\n",
        "        line = line.translate(nopunc)\n",
        "        line = re.sub('[^A-Za-z]', ' ', line)\n",
        "        new = ' '\n",
        "        for word in line.split():\n",
        "            word = lem.lemmatize(word)\n",
        "            if word not in custom_stopwords and len(word)>3:\n",
        "                new = new + ' ' + word\n",
        "        abstracts.append(new)\n",
        "    return abstracts"
      ]
    },
    {
      "cell_type": "code",
      "execution_count": 53,
      "metadata": {
        "id": "KMulFP2KS-BJ"
      },
      "outputs": [],
      "source": [
        "abstract_list = preprocess(abst_list)"
      ]
    },
    {
      "cell_type": "code",
      "execution_count": 54,
      "metadata": {
        "id": "zFEKypTJS-BJ",
        "outputId": "ace7cedc-e9d6-4e95-c2e6-43e420763f50",
        "colab": {
          "base_uri": "https://localhost:8080/",
          "height": 36
        }
      },
      "outputs": [
        {
          "output_type": "execute_result",
          "data": {
            "text/plain": [
              "'  sswowowo mikemorris candicebergenmp convoycandice love chickenvoy clownvoy freedomconvoy ottawastrong lawandorder'"
            ],
            "application/vnd.google.colaboratory.intrinsic+json": {
              "type": "string"
            }
          },
          "metadata": {},
          "execution_count": 54
        }
      ],
      "source": [
        "abstract_list[0]"
      ]
    },
    {
      "cell_type": "code",
      "execution_count": 55,
      "metadata": {
        "id": "8r-vf-lJS-BK"
      },
      "outputs": [],
      "source": [
        "def tokenizer(abst_list):\n",
        "    abstract_tokens =[]\n",
        "    for line in abst_list:\n",
        "        tokens = word_tokenize(line)\n",
        "        tokens = [t for t in tokens if len(t) > 3]\n",
        "        abstract_tokens.append(tokens)\n",
        "    return abstract_tokens"
      ]
    },
    {
      "cell_type": "code",
      "execution_count": 56,
      "metadata": {
        "id": "ys9Lxsz1S-BK"
      },
      "outputs": [],
      "source": [
        "abstract_tokens = tokenizer(abstract_list)"
      ]
    },
    {
      "cell_type": "markdown",
      "metadata": {
        "id": "eEiltzFvS-BK"
      },
      "source": [
        "** Word Vectotization**"
      ]
    },
    {
      "cell_type": "code",
      "execution_count": 57,
      "metadata": {
        "id": "JZseWsneS-BK"
      },
      "outputs": [],
      "source": [
        "vectorizer = KeyedVectors.load_word2vec_format('word2vec_embedding.bin', binary=True)"
      ]
    },
    {
      "cell_type": "code",
      "execution_count": 58,
      "metadata": {
        "id": "sVKyNnjrS-BK"
      },
      "outputs": [],
      "source": [
        "def w2v_vectorizer(list_of_docs, model):\n",
        "    features = []\n",
        "\n",
        "    for tokens in list_of_docs:\n",
        "        zero_vector = np.zeros(model.vector_size)\n",
        "        vectors = []\n",
        "        for token in tokens:\n",
        "            if token in model:\n",
        "                try:\n",
        "                    vectors.append(model[token])\n",
        "                except KeyError:\n",
        "                    continue\n",
        "        if vectors:\n",
        "            vectors = np.asarray(vectors)\n",
        "            avg_vec = vectors.mean(axis=0)\n",
        "            features.append(avg_vec)\n",
        "        else:\n",
        "            features.append(zero_vector)\n",
        "    return features"
      ]
    },
    {
      "cell_type": "code",
      "execution_count": 59,
      "metadata": {
        "id": "EEQX0LDwS-BL"
      },
      "outputs": [],
      "source": [
        "text_vectors = w2v_vectorizer(abstract_tokens,vectorizer)"
      ]
    },
    {
      "cell_type": "markdown",
      "metadata": {
        "id": "6xEN4AFjS-BL"
      },
      "source": [
        "# Model building"
      ]
    },
    {
      "cell_type": "code",
      "execution_count": 60,
      "metadata": {
        "id": "AGHg29qWS-BM",
        "outputId": "e307df2b-4bfa-49c1-868b-e5f3626d80de",
        "colab": {
          "base_uri": "https://localhost:8080/",
          "height": 295
        }
      },
      "outputs": [
        {
          "output_type": "display_data",
          "data": {
            "text/plain": [
              "<Figure size 432x288 with 1 Axes>"
            ],
            "image/png": "[encoded data removed]"
          },
          "metadata": {
            "needs_background": "light"
          }
        }
      ],
      "source": [
        "# checking for optimal number of clusters\n",
        "sse = []\n",
        "list_k = list(range(2,15))\n",
        "\n",
        "for k in list_k:\n",
        "    km = MiniBatchKMeans(init='k-means++',n_clusters = k,random_state=0,n_init=20,max_iter=1000)\n",
        "    km.fit(text_vectors)\n",
        "    sse.append(km.inertia_)\n",
        "\n",
        "plt.plot(range(2, 15), sse, 'go-')\n",
        "plt.title('The Elobw Method Graph')\n",
        "plt.xlabel('Number of clusters(k)')\n",
        "plt.ylabel('Sum of Squared Error (SSE)')\n",
        "plt.show()"
      ]
    },
    {
      "cell_type": "code",
      "execution_count": 61,
      "metadata": {
        "id": "hx-iq1jrS-BM",
        "outputId": "7b7fdaef-c0af-4b3f-f5e7-b5b3444842b1",
        "colab": {
          "base_uri": "https://localhost:8080/",
          "height": 75
        }
      },
      "outputs": [
        {
          "output_type": "execute_result",
          "data": {
            "text/plain": [
              "MiniBatchKMeans(max_iter=1000, n_clusters=4, n_init=20, random_state=0)"
            ],
            "text/html": [
              "<style>#sk-container-id-1 {color: black;background-color: white;}#sk-container-id-1 pre{padding: 0;}#sk-container-id-1 div.sk-toggleable {background-color: white;}#sk-container-id-1 label.sk-toggleable__label {cursor: pointer;display: block;width: 100%;margin-bottom: 0;padding: 0.3em;box-sizing: border-box;text-align: center;}#sk-container-id-1 label.sk-toggleable__label-arrow:before {content: \"▸\";float: left;margin-right: 0.25em;color: #696969;}#sk-container-id-1 label.sk-toggleable__label-arrow:hover:before {color: black;}#sk-container-id-1 div.sk-estimator:hover label.sk-toggleable__label-arrow:before {color: black;}#sk-container-id-1 div.sk-toggleable__content {max-height: 0;max-width: 0;overflow: hidden;text-align: left;background-color: #f0f8ff;}#sk-container-id-1 div.sk-toggleable__content pre {margin: 0.2em;color: black;border-radius: 0.25em;background-color: #f0f8ff;}#sk-container-id-1 input.sk-toggleable__control:checked~div.sk-toggleable__content {max-height: 200px;max-width: 100%;overflow: auto;}#sk-container-id-1 input.sk-toggleable__control:checked~label.sk-toggleable__label-arrow:before {content: \"▾\";}#sk-container-id-1 div.sk-estimator input.sk-toggleable__control:checked~label.sk-toggleable__label {background-color: #d4ebff;}#sk-container-id-1 div.sk-label input.sk-toggleable__control:checked~label.sk-toggleable__label {background-color: #d4ebff;}#sk-container-id-1 input.sk-hidden--visually {border: 0;clip: rect(1px 1px 1px 1px);clip: rect(1px, 1px, 1px, 1px);height: 1px;margin: -1px;overflow: hidden;padding: 0;position: absolute;width: 1px;}#sk-container-id-1 div.sk-estimator {font-family: monospace;background-color: #f0f8ff;border: 1px dotted black;border-radius: 0.25em;box-sizing: border-box;margin-bottom: 0.5em;}#sk-container-id-1 div.sk-estimator:hover {background-color: #d4ebff;}#sk-container-id-1 div.sk-parallel-item::after {content: \"\";width: 100%;border-bottom: 1px solid gray;flex-grow: 1;}#sk-container-id-1 div.sk-label:hover label.sk-toggleable__label {background-color: #d4ebff;}#sk-container-id-1 div.sk-serial::before {content: \"\";position: absolute;border-left: 1px solid gray;box-sizing: border-box;top: 0;bottom: 0;left: 50%;z-index: 0;}#sk-container-id-1 div.sk-serial {display: flex;flex-direction: column;align-items: center;background-color: white;padding-right: 0.2em;padding-left: 0.2em;position: relative;}#sk-container-id-1 div.sk-item {position: relative;z-index: 1;}#sk-container-id-1 div.sk-parallel {display: flex;align-items: stretch;justify-content: center;background-color: white;position: relative;}#sk-container-id-1 div.sk-item::before, #sk-container-id-1 div.sk-parallel-item::before {content: \"\";position: absolute;border-left: 1px solid gray;box-sizing: border-box;top: 0;bottom: 0;left: 50%;z-index: -1;}#sk-container-id-1 div.sk-parallel-item {display: flex;flex-direction: column;z-index: 1;position: relative;background-color: white;}#sk-container-id-1 div.sk-parallel-item:first-child::after {align-self: flex-end;width: 50%;}#sk-container-id-1 div.sk-parallel-item:last-child::after {align-self: flex-start;width: 50%;}#sk-container-id-1 div.sk-parallel-item:only-child::after {width: 0;}#sk-container-id-1 div.sk-dashed-wrapped {border: 1px dashed gray;margin: 0 0.4em 0.5em 0.4em;box-sizing: border-box;padding-bottom: 0.4em;background-color: white;}#sk-container-id-1 div.sk-label label {font-family: monospace;font-weight: bold;display: inline-block;line-height: 1.2em;}#sk-container-id-1 div.sk-label-container {text-align: center;}#sk-container-id-1 div.sk-container {/* jupyter's `normalize.less` sets `[hidden] { display: none; }` but bootstrap.min.css set `[hidden] { display: none !important; }` so we also need the `!important` here to be able to override the default hidden behavior on the sphinx rendered scikit-learn.org. See: https://github.com/scikit-learn/scikit-learn/issues/21755 */display: inline-block !important;position: relative;}#sk-container-id-1 div.sk-text-repr-fallback {display: none;}</style><div id=\"sk-container-id-1\" class=\"sk-top-container\"><div class=\"sk-text-repr-fallback\"><pre>MiniBatchKMeans(max_iter=1000, n_clusters=4, n_init=20, random_state=0)</pre><b>In a Jupyter environment, please rerun this cell to show the HTML representation or trust the notebook. <br />On GitHub, the HTML representation is unable to render, please try loading this page with nbviewer.org.</b></div><div class=\"sk-container\" hidden><div class=\"sk-item\"><div class=\"sk-estimator sk-toggleable\"><input class=\"sk-toggleable__control sk-hidden--visually\" id=\"sk-estimator-id-1\" type=\"checkbox\" checked><label for=\"sk-estimator-id-1\" class=\"sk-toggleable__label sk-toggleable__label-arrow\">MiniBatchKMeans</label><div class=\"sk-toggleable__content\"><pre>MiniBatchKMeans(max_iter=1000, n_clusters=4, n_init=20, random_state=0)</pre></div></div></div></div></div>"
            ]
          },
          "metadata": {},
          "execution_count": 61
        }
      ],
      "source": [
        "k = 4\n",
        "k_means = MiniBatchKMeans(init='k-means++',n_clusters = k,random_state=0,n_init=20,max_iter=1000)\n",
        "k_means.fit(text_vectors)"
      ]
    },
    {
      "cell_type": "markdown",
      "metadata": {
        "id": "I5bdvqinS-BM"
      },
      "source": [
        "# Visualization"
      ]
    },
    {
      "cell_type": "code",
      "execution_count": 62,
      "metadata": {
        "id": "hHkKkm1wS-BN"
      },
      "outputs": [],
      "source": [
        "from sklearn.decomposition import PCA\n",
        "pca = PCA(n_components=2,random_state=0)\n",
        "reduced_vectors = pca.fit_transform(text_vectors)\n",
        "reduced_clusters = pca.fit_transform(k_means.cluster_centers_)"
      ]
    },
    {
      "cell_type": "code",
      "execution_count": 63,
      "metadata": {
        "id": "cZAaGkRKS-BN",
        "outputId": "92022456-f1e2-4e91-8047-9ce8300dbe4e",
        "colab": {
          "base_uri": "https://localhost:8080/",
          "height": 282
        }
      },
      "outputs": [
        {
          "output_type": "execute_result",
          "data": {
            "text/plain": [
              "<matplotlib.collections.PathCollection at 0x7fd147f6d640>"
            ]
          },
          "metadata": {},
          "execution_count": 63
        },
        {
          "output_type": "display_data",
          "data": {
            "text/plain": [
              "<Figure size 432x288 with 1 Axes>"
            ],
            "image/png": "[encoded data removed]"
          },
          "metadata": {
            "needs_background": "light"
          }
        }
      ],
      "source": [
        "plt.scatter(reduced_vectors[:,0],reduced_vectors[:,1],c=k_means.labels_, alpha=0.2)\n",
        "plt.scatter(reduced_clusters[:, 0],reduced_clusters[:, 1], marker='x', s=150, c='r')"
      ]
    },
    {
      "cell_type": "markdown",
      "metadata": {
        "id": "ozxyB_5-S-BN"
      },
      "source": [
        "# Top words from each cluster"
      ]
    },
    {
      "cell_type": "code",
      "execution_count": 64,
      "metadata": {
        "id": "YN5m7ge0S-BN",
        "outputId": "37f3dc82-dd33-4549-9b8b-8f3dd7d1b0ea",
        "colab": {
          "base_uri": "https://localhost:8080/"
        }
      },
      "outputs": [
        {
          "output_type": "execute_result",
          "data": {
            "text/plain": [
              "1    37749\n",
              "0    11030\n",
              "3     3732\n",
              "2     3248\n",
              "Name: labels, dtype: int64"
            ]
          },
          "metadata": {},
          "execution_count": 64
        }
      ],
      "source": [
        "df_connections['preprocessed_abstract'] = abstract_list\n",
        "df_connections['labels'] = k_means.labels_\n",
        "df_connections['labels'].value_counts()"
      ]
    },
    {
      "cell_type": "code",
      "source": [],
      "metadata": {
        "id": "nBTb0kiCAiwD"
      },
      "execution_count": null,
      "outputs": []
    },
    {
      "cell_type": "code",
      "source": [
        "from sklearn.metrics import calinski_harabasz_score\n",
        "\n",
        "# initialize k-means with k clusters\n",
        "kmeans = KMeans(n_clusters=5, random_state=42)\n",
        "\n",
        "# fit the k-means model to the data\n",
        "kmeans.fit(text_vectors)\n",
        "\n",
        "# calculate the Calinski-Harabasz score for the clustering solution\n",
        "ch_score = calinski_harabasz_score(text_vectors, kmeans.labels_)\n",
        "print(\"Calinski-Harabasz score:\", ch_score)"
      ],
      "metadata": {
        "colab": {
          "base_uri": "https://localhost:8080/"
        },
        "id": "lr6ykoLVAizK",
        "outputId": "b95d7737-68d4-4008-d5b1-9648a92d96fb"
      },
      "execution_count": 80,
      "outputs": [
        {
          "output_type": "stream",
          "name": "stderr",
          "text": [
            "/usr/local/lib/python3.9/dist-packages/sklearn/cluster/_kmeans.py:870: FutureWarning: The default value of `n_init` will change from 10 to 'auto' in 1.4. Set the value of `n_init` explicitly to suppress the warning\n",
            "  warnings.warn(\n"
          ]
        },
        {
          "output_type": "stream",
          "name": "stdout",
          "text": [
            "Calinski-Harabasz score: 14006.56029627506\n"
          ]
        }
      ]
    },
    {
      "cell_type": "code",
      "source": [
        "from sklearn.cluster import DBSCAN\n",
        "from sklearn.metrics import calinski_harabasz_score\n",
        "\n",
        "# initialize DBSCAN with eps=0.5 and min_samples=5\n",
        "dbscan = DBSCAN(eps=0.5, min_samples=5)\n",
        "\n",
        "# fit the DBSCAN model to the data\n",
        "dbscan.fit(text_vectors)\n",
        "\n",
        "# calculate the Calinski-Harabasz score for the clustering solution\n",
        "ch_score = calinski_harabasz_score(text_vectors, dbscan.labels_)\n",
        "print(\"Calinski-Harabasz score:\", ch_score)"
      ],
      "metadata": {
        "colab": {
          "base_uri": "https://localhost:8080/"
        },
        "id": "LIAurBdbBaLK",
        "outputId": "f1ec4a8b-6d3f-49c1-871d-058d3d2e976f"
      },
      "execution_count": 81,
      "outputs": [
        {
          "output_type": "stream",
          "name": "stdout",
          "text": [
            "Calinski-Harabasz score: 1324.065975416027\n"
          ]
        }
      ]
    },
    {
      "cell_type": "code",
      "source": [
        "from sklearn.cluster import SpectralClustering\n",
        "from sklearn.metrics import calinski_harabasz_score\n",
        "\n",
        "# initialize SpectralClustering with k=5\n",
        "spectral = SpectralClustering(text_vectors=4, random_state=42)\n",
        "\n",
        "# fit the SpectralClustering model to the data\n",
        "spectral.fit(X)\n",
        "\n",
        "# calculate the Calinski-Harabasz score for the clustering solution\n",
        "ch_score = calinski_harabasz_score(Xtext_vectors, spectral.labels_)\n",
        "print(\"Calinski-Harabasz score:\", ch_score)"
      ],
      "metadata": {
        "id": "xIYmjYyYB-d5"
      },
      "execution_count": null,
      "outputs": []
    },
    {
      "cell_type": "code",
      "source": [],
      "metadata": {
        "id": "4F3CnUGxAi1q"
      },
      "execution_count": null,
      "outputs": []
    },
    {
      "cell_type": "code",
      "execution_count": 65,
      "metadata": {
        "id": "0vkB0CUQS-BO"
      },
      "outputs": [],
      "source": [
        "def get_top_n_words(corpus, n):\n",
        "    vec = CountVectorizer().fit(corpus)\n",
        "    bag_of_words = vec.transform(corpus)\n",
        "    sum_words = bag_of_words.sum(axis=0) \n",
        "    words_freq = [(word, sum_words[0, idx]) for word, idx in   vec.vocabulary_.items()]\n",
        "    words_freq =sorted(words_freq, key = lambda x: x[1], reverse=True)\n",
        "    return words_freq[:n]"
      ]
    },
    {
      "cell_type": "code",
      "execution_count": 66,
      "metadata": {
        "id": "A4aVRcTnS-BO"
      },
      "outputs": [],
      "source": [
        "def get_wordcloud(text):\n",
        "    word_cloud = WordCloud(collocations = False, background_color = 'white').generate(text)\n",
        "    plt.imshow(word_cloud, interpolation='bilinear')\n",
        "    plt.axis(\"off\")\n",
        "    plt.show()"
      ]
    },
    {
      "cell_type": "code",
      "execution_count": 67,
      "metadata": {
        "id": "AmCaMWjtS-BP",
        "outputId": "642481de-8a9d-4b25-d89f-19ce491cbc94",
        "colab": {
          "base_uri": "https://localhost:8080/",
          "height": 880
        }
      },
      "outputs": [
        {
          "output_type": "display_data",
          "data": {
            "text/plain": [
              "<Figure size 432x288 with 1 Axes>"
            ],
            "image/png": "[encoded data removed]"
          },
          "metadata": {
            "needs_background": "light"
          }
        },
        {
          "output_type": "stream",
          "name": "stdout",
          "text": [
            "Top 10 words from cluster 0 :\n",
            "['freedomconvoy', 'trudeau', 'bank', 'freedom', 'hollyanndoan', 'bjdichter', 'canada', 'political', 'million', 'truckerforfreedom']\n"
          ]
        },
        {
          "output_type": "display_data",
          "data": {
            "text/plain": [
              "<Figure size 432x288 with 1 Axes>"
            ],
            "image/png": "[encoded data removed]"
          },
          "metadata": {
            "needs_background": "light"
          }
        },
        {
          "output_type": "stream",
          "name": "stdout",
          "text": [
            "Top 10 words from cluster 1 :\n",
            "['freedomconvoy', 'police', 'ottawa', 'canada', 'convoy', 'trucker', 'protester', 'freedom', 'people', 'canadian']\n"
          ]
        },
        {
          "output_type": "display_data",
          "data": {
            "text/plain": [
              "<Figure size 432x288 with 1 Axes>"
            ],
            "image/png": "[encoded data removed]"
          },
          "metadata": {
            "needs_background": "light"
          }
        },
        {
          "output_type": "stream",
          "name": "stdout",
          "text": [
            "Top 10 words from cluster 2 :\n",
            "['wengcouver', 'jonkay', 'rupasubramanya', 'candicebergenmp', 'freedomconvoy', 'airbnbsnitchpol', 'kmcall', 'itsrobroberts', 'carsonjerema', 'nationalpost']\n"
          ]
        },
        {
          "output_type": "display_data",
          "data": {
            "text/plain": [
              "<Figure size 432x288 with 1 Axes>"
            ],
            "image/png": "[encoded data removed]"
          },
          "metadata": {
            "needs_background": "light"
          }
        },
        {
          "output_type": "stream",
          "name": "stdout",
          "text": [
            "Top 10 words from cluster 3 :\n",
            "['business', 'hgashoka', 'ottawa', 'zone', 'freedomconvoy', 'husband', 'called', 'open', 'peace', 'police']\n"
          ]
        }
      ],
      "source": [
        "from wordcloud import WordCloud\n",
        "for clus in range (4):\n",
        "    text =' '\n",
        "    df2 = df_connections.loc[df_connections[\"labels\"]==clus]\n",
        "    \n",
        "    #wordcloud\n",
        "    for abst in df2.preprocessed_abstract:\n",
        "        text += abst\n",
        "    get_wordcloud(text)\n",
        "    \n",
        "    #top10words\n",
        "    words = []\n",
        "    for i, j in get_top_n_words(df2[\"preprocessed_abstract\"],10):\n",
        "        words.append(i)\n",
        "    print (\"Top 10 words from cluster\",clus,\":\")\n",
        "    print (words)"
      ]
    },
    {
      "cell_type": "code",
      "execution_count": 71,
      "metadata": {
        "id": "t34PyWeYS-BP",
        "outputId": "ff3c6819-427e-4b5f-b0a0-0f17a98c2044",
        "colab": {
          "base_uri": "https://localhost:8080/",
          "height": 311
        }
      },
      "outputs": [
        {
          "output_type": "error",
          "ename": "NotImplementedError",
          "evalue": "ignored",
          "traceback": [
            "\u001b[0;31m---------------------------------------------------------------------------\u001b[0m",
            "\u001b[0;31mNotImplementedError\u001b[0m                       Traceback (most recent call last)",
            "\u001b[0;32m<ipython-input-71-5484d5012375>\u001b[0m in \u001b[0;36m<module>\u001b[0;34m\u001b[0m\n\u001b[0;32m----> 1\u001b[0;31m \u001b[0mget_ipython\u001b[0m\u001b[0;34m(\u001b[0m\u001b[0;34m)\u001b[0m\u001b[0;34m.\u001b[0m\u001b[0mrun_line_magic\u001b[0m\u001b[0;34m(\u001b[0m\u001b[0;34m'pip'\u001b[0m\u001b[0;34m,\u001b[0m \u001b[0;34m'install -U yellowbrick'\u001b[0m\u001b[0;34m)\u001b[0m\u001b[0;34m\u001b[0m\u001b[0;34m\u001b[0m\u001b[0m\n\u001b[0m",
            "\u001b[0;32m/usr/local/lib/python3.9/dist-packages/IPython/core/interactiveshell.py\u001b[0m in \u001b[0;36mrun_line_magic\u001b[0;34m(self, magic_name, line, _stack_depth)\u001b[0m\n\u001b[1;32m   2312\u001b[0m                 \u001b[0mkwargs\u001b[0m\u001b[0;34m[\u001b[0m\u001b[0;34m'local_ns'\u001b[0m\u001b[0;34m]\u001b[0m \u001b[0;34m=\u001b[0m \u001b[0msys\u001b[0m\u001b[0;34m.\u001b[0m\u001b[0m_getframe\u001b[0m\u001b[0;34m(\u001b[0m\u001b[0mstack_depth\u001b[0m\u001b[0;34m)\u001b[0m\u001b[0;34m.\u001b[0m\u001b[0mf_locals\u001b[0m\u001b[0;34m\u001b[0m\u001b[0;34m\u001b[0m\u001b[0m\n\u001b[1;32m   2313\u001b[0m             \u001b[0;32mwith\u001b[0m \u001b[0mself\u001b[0m\u001b[0;34m.\u001b[0m\u001b[0mbuiltin_trap\u001b[0m\u001b[0;34m:\u001b[0m\u001b[0;34m\u001b[0m\u001b[0;34m\u001b[0m\u001b[0m\n\u001b[0;32m-> 2314\u001b[0;31m                 \u001b[0mresult\u001b[0m \u001b[0;34m=\u001b[0m \u001b[0mfn\u001b[0m\u001b[0;34m(\u001b[0m\u001b[0;34m*\u001b[0m\u001b[0margs\u001b[0m\u001b[0;34m,\u001b[0m \u001b[0;34m**\u001b[0m\u001b[0mkwargs\u001b[0m\u001b[0;34m)\u001b[0m\u001b[0;34m\u001b[0m\u001b[0;34m\u001b[0m\u001b[0m\n\u001b[0m\u001b[1;32m   2315\u001b[0m             \u001b[0;32mreturn\u001b[0m \u001b[0mresult\u001b[0m\u001b[0;34m\u001b[0m\u001b[0;34m\u001b[0m\u001b[0m\n\u001b[1;32m   2316\u001b[0m \u001b[0;34m\u001b[0m\u001b[0m\n",
            "\u001b[0;32m/usr/local/lib/python3.9/dist-packages/google/colab/_installation_commands.py\u001b[0m in \u001b[0;36m_pip_magic\u001b[0;34m(line)\u001b[0m\n\u001b[1;32m     47\u001b[0m   \u001b[0;31m# Colab is set up such that pip does the right thing, and pip install\u001b[0m\u001b[0;34m\u001b[0m\u001b[0;34m\u001b[0m\u001b[0m\n\u001b[1;32m     48\u001b[0m   \u001b[0;31m# will properly trigger the pip install warning.\u001b[0m\u001b[0;34m\u001b[0m\u001b[0;34m\u001b[0m\u001b[0m\n\u001b[0;32m---> 49\u001b[0;31m   \u001b[0;32mreturn\u001b[0m \u001b[0mip\u001b[0m\u001b[0;34m.\u001b[0m\u001b[0msystem\u001b[0m\u001b[0;34m(\u001b[0m\u001b[0;34m'pip {}'\u001b[0m\u001b[0;34m.\u001b[0m\u001b[0mformat\u001b[0m\u001b[0;34m(\u001b[0m\u001b[0mline\u001b[0m\u001b[0;34m)\u001b[0m\u001b[0;34m)\u001b[0m\u001b[0;34m\u001b[0m\u001b[0;34m\u001b[0m\u001b[0m\n\u001b[0m\u001b[1;32m     50\u001b[0m \u001b[0;34m\u001b[0m\u001b[0m\n\u001b[1;32m     51\u001b[0m \u001b[0;34m\u001b[0m\u001b[0m\n",
            "\u001b[0;32m/usr/local/lib/python3.9/dist-packages/google/colab/_shell.py\u001b[0m in \u001b[0;36msystem\u001b[0;34m(self, *args, **kwargs)\u001b[0m\n\u001b[1;32m     96\u001b[0m       \u001b[0mkwargs\u001b[0m\u001b[0;34m.\u001b[0m\u001b[0mupdate\u001b[0m\u001b[0;34m(\u001b[0m\u001b[0;34m{\u001b[0m\u001b[0;34m'also_return_output'\u001b[0m\u001b[0;34m:\u001b[0m \u001b[0;32mTrue\u001b[0m\u001b[0;34m}\u001b[0m\u001b[0;34m)\u001b[0m\u001b[0;34m\u001b[0m\u001b[0;34m\u001b[0m\u001b[0m\n\u001b[1;32m     97\u001b[0m \u001b[0;34m\u001b[0m\u001b[0m\n\u001b[0;32m---> 98\u001b[0;31m     \u001b[0moutput\u001b[0m \u001b[0;34m=\u001b[0m \u001b[0m_system_commands\u001b[0m\u001b[0;34m.\u001b[0m\u001b[0m_system_compat\u001b[0m\u001b[0;34m(\u001b[0m\u001b[0mself\u001b[0m\u001b[0;34m,\u001b[0m \u001b[0;34m*\u001b[0m\u001b[0margs\u001b[0m\u001b[0;34m,\u001b[0m \u001b[0;34m**\u001b[0m\u001b[0mkwargs\u001b[0m\u001b[0;34m)\u001b[0m  \u001b[0;31m# pylint:disable=protected-access\u001b[0m\u001b[0;34m\u001b[0m\u001b[0;34m\u001b[0m\u001b[0m\n\u001b[0m\u001b[1;32m     99\u001b[0m \u001b[0;34m\u001b[0m\u001b[0m\n\u001b[1;32m    100\u001b[0m     \u001b[0;32mif\u001b[0m \u001b[0mpip_warn\u001b[0m\u001b[0;34m:\u001b[0m\u001b[0;34m\u001b[0m\u001b[0;34m\u001b[0m\u001b[0m\n",
            "\u001b[0;32m/usr/local/lib/python3.9/dist-packages/google/colab/_system_commands.py\u001b[0m in \u001b[0;36m_system_compat\u001b[0;34m(shell, cmd, also_return_output)\u001b[0m\n\u001b[1;32m    451\u001b[0m   \u001b[0;31m# is expected to call this function, thus adding one level of nesting to the\u001b[0m\u001b[0;34m\u001b[0m\u001b[0;34m\u001b[0m\u001b[0m\n\u001b[1;32m    452\u001b[0m   \u001b[0;31m# stack.\u001b[0m\u001b[0;34m\u001b[0m\u001b[0;34m\u001b[0m\u001b[0m\n\u001b[0;32m--> 453\u001b[0;31m   result = _run_command(\n\u001b[0m\u001b[1;32m    454\u001b[0m       \u001b[0mshell\u001b[0m\u001b[0;34m.\u001b[0m\u001b[0mvar_expand\u001b[0m\u001b[0;34m(\u001b[0m\u001b[0mcmd\u001b[0m\u001b[0;34m,\u001b[0m \u001b[0mdepth\u001b[0m\u001b[0;34m=\u001b[0m\u001b[0;36m2\u001b[0m\u001b[0;34m)\u001b[0m\u001b[0;34m,\u001b[0m \u001b[0mclear_streamed_output\u001b[0m\u001b[0;34m=\u001b[0m\u001b[0;32mFalse\u001b[0m\u001b[0;34m\u001b[0m\u001b[0;34m\u001b[0m\u001b[0m\n\u001b[1;32m    455\u001b[0m   )\n",
            "\u001b[0;32m/usr/local/lib/python3.9/dist-packages/google/colab/_system_commands.py\u001b[0m in \u001b[0;36m_run_command\u001b[0;34m(cmd, clear_streamed_output)\u001b[0m\n\u001b[1;32m    165\u001b[0m   \u001b[0mlocale_encoding\u001b[0m \u001b[0;34m=\u001b[0m \u001b[0mlocale\u001b[0m\u001b[0;34m.\u001b[0m\u001b[0mgetpreferredencoding\u001b[0m\u001b[0;34m(\u001b[0m\u001b[0;34m)\u001b[0m\u001b[0;34m\u001b[0m\u001b[0;34m\u001b[0m\u001b[0m\n\u001b[1;32m    166\u001b[0m   \u001b[0;32mif\u001b[0m \u001b[0mlocale_encoding\u001b[0m \u001b[0;34m!=\u001b[0m \u001b[0m_ENCODING\u001b[0m\u001b[0;34m:\u001b[0m\u001b[0;34m\u001b[0m\u001b[0;34m\u001b[0m\u001b[0m\n\u001b[0;32m--> 167\u001b[0;31m     raise NotImplementedError(\n\u001b[0m\u001b[1;32m    168\u001b[0m         \u001b[0;34m'A UTF-8 locale is required. Got {}'\u001b[0m\u001b[0;34m.\u001b[0m\u001b[0mformat\u001b[0m\u001b[0;34m(\u001b[0m\u001b[0mlocale_encoding\u001b[0m\u001b[0;34m)\u001b[0m\u001b[0;34m\u001b[0m\u001b[0;34m\u001b[0m\u001b[0m\n\u001b[1;32m    169\u001b[0m     )\n",
            "\u001b[0;31mNotImplementedError\u001b[0m: A UTF-8 locale is required. Got ANSI_X3.4-1968"
          ]
        }
      ],
      "source": [
        "pip install -U yellowbrick"
      ]
    },
    {
      "cell_type": "code",
      "execution_count": 72,
      "metadata": {
        "id": "dF8xo7QuS-BP"
      },
      "outputs": [],
      "source": [
        "# initialize the vectorizer \n",
        "\n",
        "vectorizer = TfidfVectorizer(sublinear_tf=True, min_df=5, max_df=0.95)\n",
        "\n",
        "\n",
        "X = vectorizer.fit_transform(df_connections['preprocessed_abstract'])"
      ]
    },
    {
      "cell_type": "code",
      "execution_count": 73,
      "metadata": {
        "id": "6T13Mm49S-BQ"
      },
      "outputs": [],
      "source": [
        "from yellowbrick.cluster import KElbowVisualizer\n",
        "from yellowbrick.cluster import SilhouetteVisualizer"
      ]
    },
    {
      "cell_type": "code",
      "execution_count": 74,
      "metadata": {
        "id": "SPvZYqiLS-BQ"
      },
      "outputs": [],
      "source": [
        "from sklearn.cluster import KMeans"
      ]
    },
    {
      "cell_type": "code",
      "execution_count": 75,
      "metadata": {
        "id": "qWP8TFM1S-BR",
        "outputId": "8ebb7229-e2a3-4d67-c0a2-9d2cb721c73f",
        "colab": {
          "base_uri": "https://localhost:8080/",
          "height": 381
        }
      },
      "outputs": [
        {
          "output_type": "stream",
          "name": "stderr",
          "text": [
            "/usr/local/lib/python3.9/dist-packages/sklearn/cluster/_kmeans.py:870: FutureWarning: The default value of `n_init` will change from 10 to 'auto' in 1.4. Set the value of `n_init` explicitly to suppress the warning\n",
            "  warnings.warn(\n"
          ]
        },
        {
          "output_type": "error",
          "ename": "TypeError",
          "evalue": "ignored",
          "traceback": [
            "\u001b[0;31m---------------------------------------------------------------------------\u001b[0m",
            "\u001b[0;31mTypeError\u001b[0m                                 Traceback (most recent call last)",
            "\u001b[0;32m<ipython-input-75-810199c60556>\u001b[0m in \u001b[0;36m<module>\u001b[0;34m\u001b[0m\n\u001b[1;32m      1\u001b[0m \u001b[0mvisualizer\u001b[0m \u001b[0;34m=\u001b[0m \u001b[0mKElbowVisualizer\u001b[0m\u001b[0;34m(\u001b[0m\u001b[0mKMeans\u001b[0m\u001b[0;34m(\u001b[0m\u001b[0minit\u001b[0m\u001b[0;34m=\u001b[0m\u001b[0;34m\"k-means++\"\u001b[0m\u001b[0;34m,\u001b[0m \u001b[0mrandom_state\u001b[0m\u001b[0;34m=\u001b[0m\u001b[0;36m42\u001b[0m\u001b[0;34m)\u001b[0m\u001b[0;34m,\u001b[0m \u001b[0mk\u001b[0m\u001b[0;34m=\u001b[0m\u001b[0;34m(\u001b[0m\u001b[0;36m1\u001b[0m\u001b[0;34m,\u001b[0m \u001b[0;36m10\u001b[0m\u001b[0;34m)\u001b[0m\u001b[0;34m)\u001b[0m\u001b[0;34m\u001b[0m\u001b[0;34m\u001b[0m\u001b[0m\n\u001b[0;32m----> 2\u001b[0;31m \u001b[0mvisualizer\u001b[0m\u001b[0;34m.\u001b[0m\u001b[0mfit\u001b[0m\u001b[0;34m(\u001b[0m\u001b[0mX\u001b[0m\u001b[0;34m)\u001b[0m\u001b[0;34m\u001b[0m\u001b[0;34m\u001b[0m\u001b[0m\n\u001b[0m\u001b[1;32m      3\u001b[0m \u001b[0mvisualizer\u001b[0m\u001b[0;34m.\u001b[0m\u001b[0mshow\u001b[0m\u001b[0;34m(\u001b[0m\u001b[0;34m)\u001b[0m\u001b[0;34m\u001b[0m\u001b[0;34m\u001b[0m\u001b[0m\n",
            "\u001b[0;32m/usr/local/lib/python3.9/dist-packages/yellowbrick/cluster/elbow.py\u001b[0m in \u001b[0;36mfit\u001b[0;34m(self, X, y, **kwargs)\u001b[0m\n\u001b[1;32m    342\u001b[0m             \u001b[0mself\u001b[0m\u001b[0;34m.\u001b[0m\u001b[0mk_timers_\u001b[0m\u001b[0;34m.\u001b[0m\u001b[0mappend\u001b[0m\u001b[0;34m(\u001b[0m\u001b[0mtime\u001b[0m\u001b[0;34m.\u001b[0m\u001b[0mtime\u001b[0m\u001b[0;34m(\u001b[0m\u001b[0;34m)\u001b[0m \u001b[0;34m-\u001b[0m \u001b[0mstart\u001b[0m\u001b[0;34m)\u001b[0m\u001b[0;34m\u001b[0m\u001b[0;34m\u001b[0m\u001b[0m\n\u001b[1;32m    343\u001b[0m             \u001b[0;32mif\u001b[0m \u001b[0mself\u001b[0m\u001b[0;34m.\u001b[0m\u001b[0mmetric\u001b[0m \u001b[0;34m!=\u001b[0m \u001b[0;34m'calinski_harabasz'\u001b[0m\u001b[0;34m:\u001b[0m\u001b[0;34m\u001b[0m\u001b[0;34m\u001b[0m\u001b[0m\n\u001b[0;32m--> 344\u001b[0;31m                 self.k_scores_.append(self.scoring_metric(X, self.estimator.labels_,\n\u001b[0m\u001b[1;32m    345\u001b[0m                                       metric=self.distance_metric))\n\u001b[1;32m    346\u001b[0m             \u001b[0;32melse\u001b[0m\u001b[0;34m:\u001b[0m\u001b[0;34m\u001b[0m\u001b[0;34m\u001b[0m\u001b[0m\n",
            "\u001b[0;32m/usr/local/lib/python3.9/dist-packages/yellowbrick/cluster/elbow.py\u001b[0m in \u001b[0;36mdistortion_score\u001b[0;34m(X, labels, metric)\u001b[0m\n\u001b[1;32m    112\u001b[0m \u001b[0;34m\u001b[0m\u001b[0m\n\u001b[1;32m    113\u001b[0m         \u001b[0;31m# Compute the square distances from the instances to the center\u001b[0m\u001b[0;34m\u001b[0m\u001b[0;34m\u001b[0m\u001b[0m\n\u001b[0;32m--> 114\u001b[0;31m         \u001b[0mdistances\u001b[0m \u001b[0;34m=\u001b[0m \u001b[0mpairwise_distances\u001b[0m\u001b[0;34m(\u001b[0m\u001b[0minstances\u001b[0m\u001b[0;34m,\u001b[0m \u001b[0mcenter\u001b[0m\u001b[0;34m,\u001b[0m \u001b[0mmetric\u001b[0m\u001b[0;34m=\u001b[0m\u001b[0mmetric\u001b[0m\u001b[0;34m)\u001b[0m\u001b[0;34m\u001b[0m\u001b[0;34m\u001b[0m\u001b[0m\n\u001b[0m\u001b[1;32m    115\u001b[0m         \u001b[0mdistances\u001b[0m \u001b[0;34m=\u001b[0m \u001b[0mdistances\u001b[0m \u001b[0;34m**\u001b[0m \u001b[0;36m2\u001b[0m\u001b[0;34m\u001b[0m\u001b[0;34m\u001b[0m\u001b[0m\n\u001b[1;32m    116\u001b[0m \u001b[0;34m\u001b[0m\u001b[0m\n",
            "\u001b[0;32m/usr/local/lib/python3.9/dist-packages/sklearn/metrics/pairwise.py\u001b[0m in \u001b[0;36mpairwise_distances\u001b[0;34m(X, Y, metric, n_jobs, force_all_finite, **kwds)\u001b[0m\n\u001b[1;32m   2037\u001b[0m         \u001b[0mfunc\u001b[0m \u001b[0;34m=\u001b[0m \u001b[0mpartial\u001b[0m\u001b[0;34m(\u001b[0m\u001b[0mdistance\u001b[0m\u001b[0;34m.\u001b[0m\u001b[0mcdist\u001b[0m\u001b[0;34m,\u001b[0m \u001b[0mmetric\u001b[0m\u001b[0;34m=\u001b[0m\u001b[0mmetric\u001b[0m\u001b[0;34m,\u001b[0m \u001b[0;34m**\u001b[0m\u001b[0mkwds\u001b[0m\u001b[0;34m)\u001b[0m\u001b[0;34m\u001b[0m\u001b[0;34m\u001b[0m\u001b[0m\n\u001b[1;32m   2038\u001b[0m \u001b[0;34m\u001b[0m\u001b[0m\n\u001b[0;32m-> 2039\u001b[0;31m     \u001b[0;32mreturn\u001b[0m \u001b[0m_parallel_pairwise\u001b[0m\u001b[0;34m(\u001b[0m\u001b[0mX\u001b[0m\u001b[0;34m,\u001b[0m \u001b[0mY\u001b[0m\u001b[0;34m,\u001b[0m \u001b[0mfunc\u001b[0m\u001b[0;34m,\u001b[0m \u001b[0mn_jobs\u001b[0m\u001b[0;34m,\u001b[0m \u001b[0;34m**\u001b[0m\u001b[0mkwds\u001b[0m\u001b[0;34m)\u001b[0m\u001b[0;34m\u001b[0m\u001b[0;34m\u001b[0m\u001b[0m\n\u001b[0m\u001b[1;32m   2040\u001b[0m \u001b[0;34m\u001b[0m\u001b[0m\n\u001b[1;32m   2041\u001b[0m \u001b[0;34m\u001b[0m\u001b[0m\n",
            "\u001b[0;32m/usr/local/lib/python3.9/dist-packages/sklearn/metrics/pairwise.py\u001b[0m in \u001b[0;36m_parallel_pairwise\u001b[0;34m(X, Y, func, n_jobs, **kwds)\u001b[0m\n\u001b[1;32m   1577\u001b[0m \u001b[0;34m\u001b[0m\u001b[0m\n\u001b[1;32m   1578\u001b[0m     \u001b[0;32mif\u001b[0m \u001b[0meffective_n_jobs\u001b[0m\u001b[0;34m(\u001b[0m\u001b[0mn_jobs\u001b[0m\u001b[0;34m)\u001b[0m \u001b[0;34m==\u001b[0m \u001b[0;36m1\u001b[0m\u001b[0;34m:\u001b[0m\u001b[0;34m\u001b[0m\u001b[0;34m\u001b[0m\u001b[0m\n\u001b[0;32m-> 1579\u001b[0;31m         \u001b[0;32mreturn\u001b[0m \u001b[0mfunc\u001b[0m\u001b[0;34m(\u001b[0m\u001b[0mX\u001b[0m\u001b[0;34m,\u001b[0m \u001b[0mY\u001b[0m\u001b[0;34m,\u001b[0m \u001b[0;34m**\u001b[0m\u001b[0mkwds\u001b[0m\u001b[0;34m)\u001b[0m\u001b[0;34m\u001b[0m\u001b[0;34m\u001b[0m\u001b[0m\n\u001b[0m\u001b[1;32m   1580\u001b[0m \u001b[0;34m\u001b[0m\u001b[0m\n\u001b[1;32m   1581\u001b[0m     \u001b[0;31m# enforce a threading backend to prevent data communication overhead\u001b[0m\u001b[0;34m\u001b[0m\u001b[0;34m\u001b[0m\u001b[0m\n",
            "\u001b[0;32m/usr/local/lib/python3.9/dist-packages/sklearn/metrics/pairwise.py\u001b[0m in \u001b[0;36meuclidean_distances\u001b[0;34m(X, Y, Y_norm_squared, squared, X_norm_squared)\u001b[0m\n\u001b[1;32m    298\u001b[0m            [1.41421356]])\n\u001b[1;32m    299\u001b[0m     \"\"\"\n\u001b[0;32m--> 300\u001b[0;31m     \u001b[0mX\u001b[0m\u001b[0;34m,\u001b[0m \u001b[0mY\u001b[0m \u001b[0;34m=\u001b[0m \u001b[0mcheck_pairwise_arrays\u001b[0m\u001b[0;34m(\u001b[0m\u001b[0mX\u001b[0m\u001b[0;34m,\u001b[0m \u001b[0mY\u001b[0m\u001b[0;34m)\u001b[0m\u001b[0;34m\u001b[0m\u001b[0;34m\u001b[0m\u001b[0m\n\u001b[0m\u001b[1;32m    301\u001b[0m \u001b[0;34m\u001b[0m\u001b[0m\n\u001b[1;32m    302\u001b[0m     \u001b[0;32mif\u001b[0m \u001b[0mX_norm_squared\u001b[0m \u001b[0;32mis\u001b[0m \u001b[0;32mnot\u001b[0m \u001b[0;32mNone\u001b[0m\u001b[0;34m:\u001b[0m\u001b[0;34m\u001b[0m\u001b[0;34m\u001b[0m\u001b[0m\n",
            "\u001b[0;32m/usr/local/lib/python3.9/dist-packages/sklearn/metrics/pairwise.py\u001b[0m in \u001b[0;36mcheck_pairwise_arrays\u001b[0;34m(X, Y, precomputed, dtype, accept_sparse, force_all_finite, copy)\u001b[0m\n\u001b[1;32m    161\u001b[0m             \u001b[0mestimator\u001b[0m\u001b[0;34m=\u001b[0m\u001b[0mestimator\u001b[0m\u001b[0;34m,\u001b[0m\u001b[0;34m\u001b[0m\u001b[0;34m\u001b[0m\u001b[0m\n\u001b[1;32m    162\u001b[0m         )\n\u001b[0;32m--> 163\u001b[0;31m         Y = check_array(\n\u001b[0m\u001b[1;32m    164\u001b[0m             \u001b[0mY\u001b[0m\u001b[0;34m,\u001b[0m\u001b[0;34m\u001b[0m\u001b[0;34m\u001b[0m\u001b[0m\n\u001b[1;32m    165\u001b[0m             \u001b[0maccept_sparse\u001b[0m\u001b[0;34m=\u001b[0m\u001b[0maccept_sparse\u001b[0m\u001b[0;34m,\u001b[0m\u001b[0;34m\u001b[0m\u001b[0;34m\u001b[0m\u001b[0m\n",
            "\u001b[0;32m/usr/local/lib/python3.9/dist-packages/sklearn/utils/validation.py\u001b[0m in \u001b[0;36mcheck_array\u001b[0;34m(array, accept_sparse, accept_large_sparse, dtype, order, copy, force_all_finite, ensure_2d, allow_nd, ensure_min_samples, ensure_min_features, estimator, input_name)\u001b[0m\n\u001b[1;32m    735\u001b[0m     \"\"\"\n\u001b[1;32m    736\u001b[0m     \u001b[0;32mif\u001b[0m \u001b[0misinstance\u001b[0m\u001b[0;34m(\u001b[0m\u001b[0marray\u001b[0m\u001b[0;34m,\u001b[0m \u001b[0mnp\u001b[0m\u001b[0;34m.\u001b[0m\u001b[0mmatrix\u001b[0m\u001b[0;34m)\u001b[0m\u001b[0;34m:\u001b[0m\u001b[0;34m\u001b[0m\u001b[0;34m\u001b[0m\u001b[0m\n\u001b[0;32m--> 737\u001b[0;31m         raise TypeError(\n\u001b[0m\u001b[1;32m    738\u001b[0m             \u001b[0;34m\"np.matrix is not supported. Please convert to a numpy array with \"\u001b[0m\u001b[0;34m\u001b[0m\u001b[0;34m\u001b[0m\u001b[0m\n\u001b[1;32m    739\u001b[0m             \u001b[0;34m\"np.asarray. For more information see: \"\u001b[0m\u001b[0;34m\u001b[0m\u001b[0;34m\u001b[0m\u001b[0m\n",
            "\u001b[0;31mTypeError\u001b[0m: np.matrix is not supported. Please convert to a numpy array with np.asarray. For more information see: https://numpy.org/doc/stable/reference/generated/numpy.matrix.html"
          ]
        }
      ],
      "source": [
        "visualizer = KElbowVisualizer(KMeans(init=\"k-means++\", random_state=42), k=(1, 10))\n",
        "visualizer.fit(X)        \n",
        "visualizer.show() "
      ]
    },
    {
      "cell_type": "code",
      "execution_count": 76,
      "metadata": {
        "id": "znmTRVmDS-BS",
        "outputId": "797c98b5-e68d-4afb-d163-5d8d56b3e6fc",
        "colab": {
          "base_uri": "https://localhost:8080/",
          "height": 428
        }
      },
      "outputs": [
        {
          "output_type": "stream",
          "name": "stderr",
          "text": [
            "/usr/local/lib/python3.9/dist-packages/sklearn/cluster/_kmeans.py:870: FutureWarning: The default value of `n_init` will change from 10 to 'auto' in 1.4. Set the value of `n_init` explicitly to suppress the warning\n",
            "  warnings.warn(\n"
          ]
        },
        {
          "output_type": "display_data",
          "data": {
            "text/plain": [
              "<Figure size 576x396 with 1 Axes>"
            ],
            "image/png": "[encoded data removed]"
          },
          "metadata": {}
        },
        {
          "output_type": "execute_result",
          "data": {
            "text/plain": [
              "<Axes: title={'center': 'Silhouette Plot of KMeans Clustering for 55759 Samples in 8 Centers'}, xlabel='silhouette coefficient values', ylabel='cluster label'>"
            ]
          },
          "metadata": {},
          "execution_count": 76
        }
      ],
      "source": [
        "visualizer = SilhouetteVisualizer(KMeans(init=\"k-means++\", random_state=42), colors='yellowbrick')\n",
        "visualizer.fit(X)        \n",
        "visualizer.show() "
      ]
    },
    {
      "cell_type": "code",
      "execution_count": 77,
      "metadata": {
        "id": "0rFosKO4S-BT"
      },
      "outputs": [],
      "source": [
        "# initialize PCA with 2 components\n",
        "pca = PCA(n_components=2, random_state=42)\n",
        "#pass X to the pca and store the reduced vectors into pca_vecs \n",
        "pca_vecs = pca.fit_transform(X.toarray())\n",
        "# save our two dimensions into x0 and x1\n",
        "\n",
        "x0 = pca_vecs[:, 0]\n",
        "x1 = pca_vecs[:, 1]"
      ]
    },
    {
      "cell_type": "code",
      "execution_count": null,
      "metadata": {
        "id": "SCJpPS9BS-BT"
      },
      "outputs": [],
      "source": [
        "# assign clusters and pca vectors to our dataframe \n",
        "\n",
        "df_connections['clusters'] = k_means.labels_\n",
        "df_connections['x0'] = x0\n",
        "df_connections['x1'] = x1"
      ]
    },
    {
      "cell_type": "code",
      "execution_count": null,
      "metadata": {
        "id": "-763Ffr8S-BT"
      },
      "outputs": [],
      "source": [
        "# set image size\n",
        "plt.figure(figsize=(12, 7))\n",
        "# set a title\n",
        "plt.title(\"Word2Vec + KMeans Tweet clustering\", fontdict={\"fontsize\": 18})\n",
        "# set axes names\n",
        "plt.xlabel(\"X0\", fontdict={\"fontsize\": 16})\n",
        "plt.ylabel(\"X1\", fontdict={\"fontsize\": 16})\n",
        "# create scatter plot with seaborn, where hue is the class used to group the data\n",
        "sns.scatterplot(data=df_connections, x='x0', y='x1', hue='labels', palette=\"viridis\")\n",
        "plt.show()"
      ]
    },
    {
      "cell_type": "code",
      "execution_count": null,
      "metadata": {
        "id": "X7DqWU-NS-BT"
      },
      "outputs": [],
      "source": [
        "#df_connections.head()"
      ]
    },
    {
      "cell_type": "code",
      "execution_count": null,
      "metadata": {
        "id": "EAp4W0qhS-BT"
      },
      "outputs": [],
      "source": [
        "#for i in range(df_connections.shape[0]) :\n",
        "#     if (df_connections.iloc[i][\"clusters\"] == 1) :\n",
        "#         print(\"Cluster:\", df_connections.iloc[i][\"clusters\"])\n",
        "#         print(df_connections.iloc[i][\"text\"])\n",
        "#         print(\"------------\")"
      ]
    },
    {
      "cell_type": "markdown",
      "metadata": {
        "id": "jN5GMnksS-BU"
      },
      "source": [
        "After looking through the different clusters and its separations, we have determined that the tweet categories can be separated fairly well with only 5 clusters. Therefore, only the results of the 5 clusters are kept."
      ]
    },
    {
      "cell_type": "code",
      "execution_count": null,
      "metadata": {
        "id": "d5tMzVqZS-BU"
      },
      "outputs": [],
      "source": [
        "#join the 5_cluster separation with tweet data\n",
        "#nlp_clusters = pd.DataFrame(tweets[\"5_clusters\"])\n",
        "#nlp_clusters = nlp_clusters.rename(columns = {\"5_clusters\" : \"nlp_clusters\"})\n",
        "#df_connections = df_connections.join(nlp_clusters, on = \"id\")"
      ]
    },
    {
      "cell_type": "code",
      "execution_count": null,
      "metadata": {
        "id": "hbUwGGh9S-BU"
      },
      "outputs": [],
      "source": [
        "df_connections = df_connections.reset_index()"
      ]
    },
    {
      "cell_type": "code",
      "execution_count": null,
      "metadata": {
        "id": "YlY9AIjeS-BV"
      },
      "outputs": [],
      "source": [
        "# label clusters with their relevant categories\n",
        "df_connections[\"clusters\"] = df_connections[\"clusters\"].astype(str)\n",
        "df_connections[\"clusters\"] = df_connections[\"clusters\"].replace({\"0\" : \"Anti-gov rhetoric\",\n",
        "                                                                 \"1\" : \"FreedomConvoy Funding\",\n",
        "                                                                 \"2\" : \"Movement\",\n",
        "                                                                 \"3\" : \"Gov-policy\",\n",
        "                                                                 \"4\" : \"Protest\",\n",
        "                                                                 \"5\" : \"Political Rhetoric\",\n",
        "                                                                 \"6\" : \"Police\",\n",
        "                                                                 \"7\" : \"Vaccine-Liberty\",\n",
        "                                                              \n",
        "                                                                         })"
      ]
    },
    {
      "cell_type": "code",
      "execution_count": null,
      "metadata": {
        "id": "CtdDlGHlS-BV"
      },
      "outputs": [],
      "source": [
        "df_connections.to_csv(\"/content/drive/MyDrive/Social Network Analysis_Freedom Convoy/Final Query/ALL_nodes_connections_final_after_content_analysis_8_clusters.csv\", index=False)"
      ]
    },
    {
      "cell_type": "code",
      "source": [
        "df_connections.loc[df_connections['author.username'] == 'QwertyDee_']"
      ],
      "metadata": {
        "id": "47koTtji0iAG"
      },
      "execution_count": null,
      "outputs": []
    },
    {
      "cell_type": "markdown",
      "metadata": {
        "id": "mJM3U_wIS-BV"
      },
      "source": [
        "# Word2Vec"
      ]
    },
    {
      "cell_type": "code",
      "execution_count": null,
      "metadata": {
        "id": "e1Af6s2MS-BV"
      },
      "outputs": [],
      "source": [
        "w2v_df = df_connections.copy()"
      ]
    },
    {
      "cell_type": "code",
      "execution_count": null,
      "metadata": {
        "id": "i1ocoteOS-BW"
      },
      "outputs": [],
      "source": [
        "w2v_df"
      ]
    },
    {
      "cell_type": "code",
      "execution_count": null,
      "metadata": {
        "id": "fe6kQF07S-BW"
      },
      "outputs": [],
      "source": [
        "tokenized_tweet = w2v_df['text'].apply(lambda x: x.split()) # tokenizing "
      ]
    },
    {
      "cell_type": "code",
      "execution_count": null,
      "metadata": {
        "id": "uaUPo21GS-BW"
      },
      "outputs": [],
      "source": [
        "tokenized_tweet = w2v_df['preprocessed_abstract'].apply(lambda x: x.split()) # tokenizing "
      ]
    },
    {
      "cell_type": "code",
      "execution_count": null,
      "metadata": {
        "id": "Gezo4f7YS-BX"
      },
      "outputs": [],
      "source": [
        "w2v_df['preprocessed_abstract']"
      ]
    },
    {
      "cell_type": "markdown",
      "metadata": {
        "id": "14B1ECxyS-BX"
      },
      "source": [
        "# Build word2vec model"
      ]
    },
    {
      "cell_type": "code",
      "execution_count": null,
      "metadata": {
        "id": "4H1o8lUpS-BX"
      },
      "outputs": [],
      "source": [
        "import gensim"
      ]
    },
    {
      "cell_type": "code",
      "execution_count": null,
      "metadata": {
        "id": "wE6a6j6FS-BY"
      },
      "outputs": [],
      "source": [
        "w2v_model = gensim.models.Word2Vec(tokenized_tweet, size=100, window=6, min_count=3, sg = 1, hs = 0, negative = 10, workers=32, seed = 34)\n",
        "\n",
        "w2v_model.train(tokenized_tweet, total_examples= len(w2v_df['preprocessed_abstract']), epochs=20)"
      ]
    },
    {
      "cell_type": "code",
      "execution_count": null,
      "metadata": {
        "id": "f65eXlJVS-BZ"
      },
      "outputs": [],
      "source": [
        "from nltk.cluster import KMeansClusterer\n",
        "from sklearn import cluster\n",
        "from sklearn import metrics"
      ]
    },
    {
      "cell_type": "code",
      "execution_count": null,
      "metadata": {
        "id": "E7KB7JJIS-BZ"
      },
      "outputs": [],
      "source": [
        "from nltk.cluster import KMeansClusterer\n",
        "from sklearn import cluster\n",
        "from sklearn import metrics\n",
        "\n",
        "Z = w2v_model[w2v_model.wv.vocab]\n",
        "\n",
        "NUM_CLUSTERS=7\n",
        "kclusterer = KMeansClusterer(NUM_CLUSTERS, distance=nltk.cluster.util.cosine_distance, repeats=25)\n",
        "assigned_clusters = kclusterer.cluster(Z, assign_clusters=True)\n",
        " \n",
        "words = list(w2v_model.wv.vocab)\n",
        "\n",
        "kmeans = cluster.KMeans(n_clusters=NUM_CLUSTERS)\n",
        "kmeans.fit(X)\n",
        " \n",
        "labels = kmeans.labels_\n",
        "centroids = kmeans.cluster_centers_"
      ]
    },
    {
      "cell_type": "code",
      "execution_count": null,
      "metadata": {
        "id": "zy3S70YSS-Ba"
      },
      "outputs": [],
      "source": [
        "# put labels into the original dataset\n",
        "w2v_df['KMeans_w2v_2'] = kmeans.labels_"
      ]
    },
    {
      "cell_type": "code",
      "execution_count": null,
      "metadata": {
        "id": "w7HYgfGGS-Ba"
      },
      "outputs": [],
      "source": [
        "w2v_df.head()"
      ]
    },
    {
      "cell_type": "code",
      "execution_count": null,
      "metadata": {
        "id": "sirAYcLhS-Ba"
      },
      "outputs": [],
      "source": [
        "#w2v_df.to_csv(\"visualization_pca.cvs\")"
      ]
    },
    {
      "cell_type": "code",
      "execution_count": null,
      "metadata": {
        "id": "CKIw0S3kS-Bb"
      },
      "outputs": [],
      "source": [
        "# initialize PCA with 2 components\n",
        "pca = PCA(n_components=2, random_state=42)\n",
        "#pass X to the pca and store the reduced vectors into pca_vecs \n",
        "pca_vecs = pca.fit_transform(X.toarray())\n",
        "# save our two dimensions into x0 and x1\n",
        "\n",
        "x0 = pca_vecs[:, 0]\n",
        "x1 = pca_vecs[:, 1]"
      ]
    },
    {
      "cell_type": "code",
      "execution_count": null,
      "metadata": {
        "id": "DRH6teqXS-Bb"
      },
      "outputs": [],
      "source": [
        "\n",
        "# assign clusters and pca vectors to our dataframe \n",
        "\n",
        "w2v_df['clusters'] = kmeans.labels_\n",
        "w2v_df['x0'] = x0\n",
        "w2v_df['x1'] = x1"
      ]
    },
    {
      "cell_type": "code",
      "execution_count": null,
      "metadata": {
        "id": "bTzjGVM3S-Bc"
      },
      "outputs": [],
      "source": [
        "w2v_df.head()"
      ]
    },
    {
      "cell_type": "markdown",
      "metadata": {
        "id": "P9nM3C27S-Bc"
      },
      "source": [
        "##visualization"
      ]
    },
    {
      "cell_type": "code",
      "execution_count": null,
      "metadata": {
        "id": "MPmJpKh2S-Bc"
      },
      "outputs": [],
      "source": [
        "# set image size\n",
        "plt.figure(figsize=(12, 7))\n",
        "# set a title\n",
        "plt.title(\"Word2Vec + KMeans Tweet clustering\", fontdict={\"fontsize\": 18})\n",
        "# set axes names\n",
        "plt.xlabel(\"X0\", fontdict={\"fontsize\": 16})\n",
        "plt.ylabel(\"X1\", fontdict={\"fontsize\": 16})\n",
        "# create scatter plot with seaborn, where hue is the class used to group the data\n",
        "sns.scatterplot(data=w2v_df, x='x0', y='x1', hue='KMeans_w2v_2', palette=\"viridis\")\n",
        "plt.show()"
      ]
    },
    {
      "cell_type": "code",
      "execution_count": null,
      "metadata": {
        "id": "C03ZVjz0S-Bc"
      },
      "outputs": [],
      "source": [
        "from sklearn.decomposition import PCA\n",
        "#pca = PCA(n_components=2, random_state=0)\n",
        "#reduced_vectors = pca.fit_transform(x.toarray)\n",
        "#reduced_clusters = pca.fit_transform(kmeans.cluster_centers_)"
      ]
    },
    {
      "cell_type": "code",
      "execution_count": null,
      "metadata": {
        "id": "8x7l1OpOS-Bd"
      },
      "outputs": [],
      "source": [
        "#plt.scatter(reduced_vectors[:,0],reduced_vectors[:,1],c=k_means.labels_, alpha=0.2)\n",
        "#plt.scatter(reduced_clusters[:, 0],reduced_clusters[:, 1], marker='x', s=150, c='r')"
      ]
    },
    {
      "cell_type": "code",
      "execution_count": null,
      "metadata": {
        "id": "Hjs_hxzqS-Bd"
      },
      "outputs": [],
      "source": [
        "my_cluster={}\n",
        "for i, word in enumerate(words):  \n",
        "    my_cluster[word] = str(assigned_clusters[i])\n",
        "\n",
        "from collections import defaultdict \n",
        "  \n",
        "res = defaultdict(list) \n",
        "for key, val in sorted(my_cluster.items()): \n",
        "    res[val].append(key) \n",
        "      \n",
        "for key,value in dict(res).items():\n",
        "    print(\"Group\",key,\":\",value)\n",
        "    print() "
      ]
    },
    {
      "cell_type": "markdown",
      "metadata": {
        "id": "ZOnXAzAaS-Bd"
      },
      "source": [
        "Identifying the Similarity between the tweets.\n"
      ]
    },
    {
      "cell_type": "code",
      "execution_count": null,
      "metadata": {
        "id": "icmrtMGrS-Be"
      },
      "outputs": [],
      "source": [
        "def w2v(s1,s2,wordmodel):\n",
        "            if s1==s2:\n",
        "                    return 1.0\n",
        "            s1words=s1.split()\n",
        "            s2words=s2.split()\n",
        "            \n",
        "            s1wordsset=set(s1words)\n",
        "            s2wordsset=set(s2words)\n",
        "            \n",
        "            vocab = wordmodel.wv.vocab #the vocabulary considered in the word embeddings\n",
        "         \n",
        "            for word in s1wordsset.copy(): #remove sentence words not found in the vocab\n",
        "                    if (word not in vocab):\n",
        "                            s1words.remove(word)\n",
        "            for word in s2wordsset.copy(): \n",
        "                    if (word not in vocab):\n",
        "                            s2words.remove(word)\n",
        "            print(s1words)\n",
        "            print(s2words)\n",
        "            return wordmodel.wv.n_similarity(s1words, s2words)"
      ]
    },
    {
      "cell_type": "code",
      "execution_count": null,
      "metadata": {
        "id": "hx7Miob2S-Be"
      },
      "outputs": [],
      "source": [
        "s1=w2v_df['preprocessed_abstract'][233]\n",
        "s2=w2v_df['preprocessed_abstract'][543]"
      ]
    },
    {
      "cell_type": "code",
      "execution_count": null,
      "metadata": {
        "id": "c9JNIN3KS-Be"
      },
      "outputs": [],
      "source": [
        "s1"
      ]
    },
    {
      "cell_type": "code",
      "execution_count": null,
      "metadata": {
        "id": "12kaF_rTS-Be"
      },
      "outputs": [],
      "source": [
        "s2"
      ]
    },
    {
      "cell_type": "code",
      "execution_count": null,
      "metadata": {
        "id": "ZjGz2pQIS-Be"
      },
      "outputs": [],
      "source": [
        "w2v(s1,s2, w2v_model)"
      ]
    },
    {
      "cell_type": "code",
      "execution_count": null,
      "metadata": {
        "id": "s0u8Id9lS-Be"
      },
      "outputs": [],
      "source": [
        "w2v_model.wv.most_similar(\"moral\")"
      ]
    }
  ],
  "metadata": {
    "kernelspec": {
      "display_name": "Python 3 (ipykernel)",
      "language": "python",
      "name": "python3"
    },
    "language_info": {
      "codemirror_mode": {
        "name": "ipython",
        "version": 3
      },
      "file_extension": ".py",
      "mimetype": "text/x-python",
      "name": "python",
      "nbconvert_exporter": "python",
      "pygments_lexer": "ipython3",
      "version": "3.8.8"
    },
    "colab": {
      "provenance": [],
      "collapsed_sections": [
        "mJM3U_wIS-BV",
        "14B1ECxyS-BX",
        "P9nM3C27S-Bc"
      ],
      "machine_shape": "hm",
      "include_colab_link": true
    },
    "accelerator": "GPU",
    "gpuClass": "premium"
  },
  "nbformat": 4,
  "nbformat_minor": 0
}